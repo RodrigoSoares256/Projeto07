{
 "cells": [
  {
   "cell_type": "markdown",
   "metadata": {},
   "source": [
    "### Compreensão do projeto\n",
    "O desafio é a criação de um classificador para determinado a qual classe pertence uma mutação genética encontrada em diversos tipos de câncer.\n",
    "Para realizar a tarefa faremos uso de um dataset fornecido contendo as seguintes colunas preditoras: \n",
    "* Texto ==> Um texto descrevendo informações sobre o câncer encontrado em diversas amostras, anotadas por especialista humanos\n",
    "* Gene ==> O gene analisado\n",
    "* Variante ==> A variante à qual pertence a amostra analisada\n",
    "\n",
    "Além da coluna alvo\n",
    "* Class\n",
    "\n",
    "### Desafios\n",
    "\n",
    "Para realizar a criação do classificador deveremos\n",
    "* Tratar o texto fornecido aplicando técnicas para conseguir extrair o significado do mesmo\n",
    "* Unir o texto com as outras variaveis fornecidas (leia-se Gene e Variantes) visto que se tratam de elementos de natureza relativamente diferente (texto e variáveis categóricas)\n",
    "* Gerar um classificador utilizando esses dados"
   ]
  },
  {
   "cell_type": "code",
   "execution_count": 1,
   "metadata": {},
   "outputs": [],
   "source": [
    "import numpy as np\n",
    "import pandas as pd\n",
    "from sklearn.feature_extraction.text import TfidfVectorizer\n",
    "from nltk.corpus import stopwords\n",
    "from sklearn.model_selection import train_test_split\n",
    "from nltk.tokenize import word_tokenize\n",
    "from sklearn.decomposition import TruncatedSVD, PCA\n",
    "from sklearn import metrics\n",
    "import xgboost\n",
    "\n",
    "import string"
   ]
  },
  {
   "cell_type": "code",
   "execution_count": 2,
   "metadata": {},
   "outputs": [],
   "source": [
    "from keras.models import Sequential\n",
    "from keras.layers import Dense, Dropout, LSTM, Embedding, Input, RepeatVector, Bidirectional\n",
    "from keras.optimizer_v1 import SGD\n",
    "from tensorflow import keras"
   ]
  },
  {
   "cell_type": "code",
   "execution_count": 3,
   "metadata": {},
   "outputs": [],
   "source": [
    "import warnings\n",
    "warnings.filterwarnings(action = \"ignore\")"
   ]
  },
  {
   "cell_type": "code",
   "execution_count": 4,
   "metadata": {},
   "outputs": [],
   "source": [
    "dfTrain = pd.read_csv(\"training_text\", sep=\"\\|\\|\", engine='python', header=None, skiprows=1, names=[\"ID\",\"Text\"])\n",
    "dfTrainVariant = pd.read_csv(\"training_variants\")"
   ]
  },
  {
   "cell_type": "code",
   "execution_count": 5,
   "metadata": {},
   "outputs": [],
   "source": [
    "train = pd.merge(dfTrain,dfTrainVariant, how = \"inner\", on = \"ID\")"
   ]
  },
  {
   "cell_type": "code",
   "execution_count": 6,
   "metadata": {},
   "outputs": [
    {
     "data": {
      "text/html": [
       "<div>\n",
       "<style scoped>\n",
       "    .dataframe tbody tr th:only-of-type {\n",
       "        vertical-align: middle;\n",
       "    }\n",
       "\n",
       "    .dataframe tbody tr th {\n",
       "        vertical-align: top;\n",
       "    }\n",
       "\n",
       "    .dataframe thead th {\n",
       "        text-align: right;\n",
       "    }\n",
       "</style>\n",
       "<table border=\"1\" class=\"dataframe\">\n",
       "  <thead>\n",
       "    <tr style=\"text-align: right;\">\n",
       "      <th></th>\n",
       "      <th>ID</th>\n",
       "      <th>Text</th>\n",
       "      <th>Gene</th>\n",
       "      <th>Variation</th>\n",
       "      <th>Class</th>\n",
       "    </tr>\n",
       "  </thead>\n",
       "  <tbody>\n",
       "    <tr>\n",
       "      <th>0</th>\n",
       "      <td>0</td>\n",
       "      <td>Cyclin-dependent kinases (CDKs) regulate a var...</td>\n",
       "      <td>FAM58A</td>\n",
       "      <td>Truncating Mutations</td>\n",
       "      <td>1</td>\n",
       "    </tr>\n",
       "    <tr>\n",
       "      <th>1</th>\n",
       "      <td>1</td>\n",
       "      <td>Abstract Background  Non-small cell lung canc...</td>\n",
       "      <td>CBL</td>\n",
       "      <td>W802*</td>\n",
       "      <td>2</td>\n",
       "    </tr>\n",
       "    <tr>\n",
       "      <th>2</th>\n",
       "      <td>2</td>\n",
       "      <td>Abstract Background  Non-small cell lung canc...</td>\n",
       "      <td>CBL</td>\n",
       "      <td>Q249E</td>\n",
       "      <td>2</td>\n",
       "    </tr>\n",
       "    <tr>\n",
       "      <th>3</th>\n",
       "      <td>3</td>\n",
       "      <td>Recent evidence has demonstrated that acquired...</td>\n",
       "      <td>CBL</td>\n",
       "      <td>N454D</td>\n",
       "      <td>3</td>\n",
       "    </tr>\n",
       "    <tr>\n",
       "      <th>4</th>\n",
       "      <td>4</td>\n",
       "      <td>Oncogenic mutations in the monomeric Casitas B...</td>\n",
       "      <td>CBL</td>\n",
       "      <td>L399V</td>\n",
       "      <td>4</td>\n",
       "    </tr>\n",
       "  </tbody>\n",
       "</table>\n",
       "</div>"
      ],
      "text/plain": [
       "   ID                                               Text    Gene  \\\n",
       "0   0  Cyclin-dependent kinases (CDKs) regulate a var...  FAM58A   \n",
       "1   1   Abstract Background  Non-small cell lung canc...     CBL   \n",
       "2   2   Abstract Background  Non-small cell lung canc...     CBL   \n",
       "3   3  Recent evidence has demonstrated that acquired...     CBL   \n",
       "4   4  Oncogenic mutations in the monomeric Casitas B...     CBL   \n",
       "\n",
       "              Variation  Class  \n",
       "0  Truncating Mutations      1  \n",
       "1                 W802*      2  \n",
       "2                 Q249E      2  \n",
       "3                 N454D      3  \n",
       "4                 L399V      4  "
      ]
     },
     "execution_count": 6,
     "metadata": {},
     "output_type": "execute_result"
    }
   ],
   "source": [
    "train.head()"
   ]
  },
  {
   "cell_type": "code",
   "execution_count": 7,
   "metadata": {
    "scrolled": true
   },
   "outputs": [
    {
     "data": {
      "text/plain": [
       "ID           0\n",
       "Text         5\n",
       "Gene         0\n",
       "Variation    0\n",
       "Class        0\n",
       "dtype: int64"
      ]
     },
     "execution_count": 7,
     "metadata": {},
     "output_type": "execute_result"
    }
   ],
   "source": [
    "train.isna().sum()"
   ]
  },
  {
   "cell_type": "markdown",
   "metadata": {},
   "source": [
    "Após a carga dos dados e junção dos dois datasets através da coluna de referência percebo que existem valores missing na colunas contendo o texto.\n",
    "Como a quantidade de dados é baixo comparado ao tamanho do dataset irei apenas removê-los"
   ]
  },
  {
   "cell_type": "code",
   "execution_count": 8,
   "metadata": {},
   "outputs": [],
   "source": [
    "train.set_index(\"ID\")\n",
    "train.dropna(inplace=True)"
   ]
  },
  {
   "cell_type": "code",
   "execution_count": 9,
   "metadata": {},
   "outputs": [
    {
     "data": {
      "text/plain": [
       "(3316, 5)"
      ]
     },
     "execution_count": 9,
     "metadata": {},
     "output_type": "execute_result"
    }
   ],
   "source": [
    "train.shape"
   ]
  },
  {
   "cell_type": "code",
   "execution_count": 10,
   "metadata": {},
   "outputs": [],
   "source": [
    "stop_words = set(stopwords.words(\"english\"))"
   ]
  },
  {
   "cell_type": "code",
   "execution_count": 11,
   "metadata": {},
   "outputs": [],
   "source": [
    "def preprocessamento(text):\n",
    "    text = text.lower()\n",
    "    text = text.translate(str.maketrans(\"\",\"\", string.punctuation))\n",
    "    \n",
    "    return text"
   ]
  },
  {
   "cell_type": "markdown",
   "metadata": {},
   "source": [
    "Como pré processamento estou transformando todas em minúsculas e removendo pontuação\n",
    "Farei isso criando uma nova coluna no dataset implementando essas mudanças"
   ]
  },
  {
   "cell_type": "code",
   "execution_count": 12,
   "metadata": {},
   "outputs": [],
   "source": [
    "train[\"Text2\"] = train[\"Text\"].map(preprocessamento)"
   ]
  },
  {
   "cell_type": "markdown",
   "metadata": {},
   "source": [
    "Aqui existem diversas possibilidades, podemos remover stop-words, realizar a tokenização do texto\n",
    "A minha escolha é utilizar o TFidf da biblioteca Scikit learn que apresentou um bom resultado para o dataset em questão"
   ]
  },
  {
   "cell_type": "code",
   "execution_count": 13,
   "metadata": {},
   "outputs": [],
   "source": [
    "tfidf =TfidfVectorizer(min_df = 1, ngram_range=(1,2), max_features=20000, stop_words=\"english\")"
   ]
  },
  {
   "cell_type": "code",
   "execution_count": 14,
   "metadata": {},
   "outputs": [],
   "source": [
    "text_train = tfidf.fit_transform(train[\"Text2\"].values).toarray()"
   ]
  },
  {
   "cell_type": "code",
   "execution_count": 15,
   "metadata": {},
   "outputs": [],
   "source": [
    "train2 = pd.DataFrame(text_train, index = train.index)"
   ]
  },
  {
   "cell_type": "markdown",
   "metadata": {},
   "source": [
    "A dimensionalidade do dataset é muito grande, algumas linhas possuem mais de 100.000 palavras o que tornaria o treinamento bastante custoso. Irei utilizar redução de dimensionalidade afim de viabilizar o treinamento"
   ]
  },
  {
   "cell_type": "code",
   "execution_count": 16,
   "metadata": {
    "scrolled": false
   },
   "outputs": [
    {
     "data": {
      "text/html": [
       "<div>\n",
       "<style scoped>\n",
       "    .dataframe tbody tr th:only-of-type {\n",
       "        vertical-align: middle;\n",
       "    }\n",
       "\n",
       "    .dataframe tbody tr th {\n",
       "        vertical-align: top;\n",
       "    }\n",
       "\n",
       "    .dataframe thead th {\n",
       "        text-align: right;\n",
       "    }\n",
       "</style>\n",
       "<table border=\"1\" class=\"dataframe\">\n",
       "  <thead>\n",
       "    <tr style=\"text-align: right;\">\n",
       "      <th></th>\n",
       "      <th>0</th>\n",
       "      <th>1</th>\n",
       "      <th>2</th>\n",
       "      <th>3</th>\n",
       "      <th>4</th>\n",
       "      <th>5</th>\n",
       "      <th>6</th>\n",
       "      <th>7</th>\n",
       "      <th>8</th>\n",
       "      <th>9</th>\n",
       "      <th>...</th>\n",
       "      <th>191</th>\n",
       "      <th>192</th>\n",
       "      <th>193</th>\n",
       "      <th>194</th>\n",
       "      <th>195</th>\n",
       "      <th>196</th>\n",
       "      <th>197</th>\n",
       "      <th>198</th>\n",
       "      <th>199</th>\n",
       "      <th>ID</th>\n",
       "    </tr>\n",
       "  </thead>\n",
       "  <tbody>\n",
       "    <tr>\n",
       "      <th>0</th>\n",
       "      <td>0.221528</td>\n",
       "      <td>-0.081707</td>\n",
       "      <td>-0.016780</td>\n",
       "      <td>-0.071000</td>\n",
       "      <td>-0.000251</td>\n",
       "      <td>-0.009083</td>\n",
       "      <td>0.002798</td>\n",
       "      <td>-0.010887</td>\n",
       "      <td>-0.020465</td>\n",
       "      <td>-0.018840</td>\n",
       "      <td>...</td>\n",
       "      <td>-0.004839</td>\n",
       "      <td>0.028431</td>\n",
       "      <td>0.000813</td>\n",
       "      <td>0.021793</td>\n",
       "      <td>-0.016415</td>\n",
       "      <td>-0.012044</td>\n",
       "      <td>0.004751</td>\n",
       "      <td>-0.001735</td>\n",
       "      <td>-0.012538</td>\n",
       "      <td>0.0</td>\n",
       "    </tr>\n",
       "    <tr>\n",
       "      <th>1</th>\n",
       "      <td>0.165491</td>\n",
       "      <td>-0.087215</td>\n",
       "      <td>-0.038926</td>\n",
       "      <td>0.075832</td>\n",
       "      <td>-0.023038</td>\n",
       "      <td>0.028609</td>\n",
       "      <td>0.038840</td>\n",
       "      <td>0.006570</td>\n",
       "      <td>-0.009878</td>\n",
       "      <td>-0.007995</td>\n",
       "      <td>...</td>\n",
       "      <td>0.010726</td>\n",
       "      <td>-0.001199</td>\n",
       "      <td>-0.008188</td>\n",
       "      <td>-0.002768</td>\n",
       "      <td>0.003849</td>\n",
       "      <td>-0.010672</td>\n",
       "      <td>-0.001554</td>\n",
       "      <td>0.002522</td>\n",
       "      <td>0.018431</td>\n",
       "      <td>1.0</td>\n",
       "    </tr>\n",
       "    <tr>\n",
       "      <th>2</th>\n",
       "      <td>0.165491</td>\n",
       "      <td>-0.087215</td>\n",
       "      <td>-0.038926</td>\n",
       "      <td>0.075832</td>\n",
       "      <td>-0.023038</td>\n",
       "      <td>0.028609</td>\n",
       "      <td>0.038840</td>\n",
       "      <td>0.006570</td>\n",
       "      <td>-0.009878</td>\n",
       "      <td>-0.007995</td>\n",
       "      <td>...</td>\n",
       "      <td>0.010726</td>\n",
       "      <td>-0.001199</td>\n",
       "      <td>-0.008188</td>\n",
       "      <td>-0.002768</td>\n",
       "      <td>0.003849</td>\n",
       "      <td>-0.010672</td>\n",
       "      <td>-0.001554</td>\n",
       "      <td>0.002522</td>\n",
       "      <td>0.018431</td>\n",
       "      <td>2.0</td>\n",
       "    </tr>\n",
       "    <tr>\n",
       "      <th>3</th>\n",
       "      <td>0.182577</td>\n",
       "      <td>-0.072146</td>\n",
       "      <td>-0.025338</td>\n",
       "      <td>0.009030</td>\n",
       "      <td>-0.002064</td>\n",
       "      <td>-0.019587</td>\n",
       "      <td>-0.021849</td>\n",
       "      <td>-0.025466</td>\n",
       "      <td>0.016703</td>\n",
       "      <td>-0.012428</td>\n",
       "      <td>...</td>\n",
       "      <td>0.026159</td>\n",
       "      <td>-0.034974</td>\n",
       "      <td>0.001514</td>\n",
       "      <td>-0.036586</td>\n",
       "      <td>-0.049705</td>\n",
       "      <td>-0.067765</td>\n",
       "      <td>-0.177720</td>\n",
       "      <td>-0.114349</td>\n",
       "      <td>-0.081355</td>\n",
       "      <td>3.0</td>\n",
       "    </tr>\n",
       "    <tr>\n",
       "      <th>4</th>\n",
       "      <td>0.241561</td>\n",
       "      <td>-0.075471</td>\n",
       "      <td>-0.001424</td>\n",
       "      <td>0.031511</td>\n",
       "      <td>-0.044637</td>\n",
       "      <td>0.036575</td>\n",
       "      <td>0.001294</td>\n",
       "      <td>-0.013997</td>\n",
       "      <td>-0.026975</td>\n",
       "      <td>-0.021823</td>\n",
       "      <td>...</td>\n",
       "      <td>-0.009963</td>\n",
       "      <td>0.014049</td>\n",
       "      <td>0.006492</td>\n",
       "      <td>0.016160</td>\n",
       "      <td>0.016435</td>\n",
       "      <td>0.037297</td>\n",
       "      <td>0.080705</td>\n",
       "      <td>0.048989</td>\n",
       "      <td>0.039365</td>\n",
       "      <td>4.0</td>\n",
       "    </tr>\n",
       "  </tbody>\n",
       "</table>\n",
       "<p>5 rows × 201 columns</p>\n",
       "</div>"
      ],
      "text/plain": [
       "          0         1         2         3         4         5         6  \\\n",
       "0  0.221528 -0.081707 -0.016780 -0.071000 -0.000251 -0.009083  0.002798   \n",
       "1  0.165491 -0.087215 -0.038926  0.075832 -0.023038  0.028609  0.038840   \n",
       "2  0.165491 -0.087215 -0.038926  0.075832 -0.023038  0.028609  0.038840   \n",
       "3  0.182577 -0.072146 -0.025338  0.009030 -0.002064 -0.019587 -0.021849   \n",
       "4  0.241561 -0.075471 -0.001424  0.031511 -0.044637  0.036575  0.001294   \n",
       "\n",
       "          7         8         9  ...       191       192       193       194  \\\n",
       "0 -0.010887 -0.020465 -0.018840  ... -0.004839  0.028431  0.000813  0.021793   \n",
       "1  0.006570 -0.009878 -0.007995  ...  0.010726 -0.001199 -0.008188 -0.002768   \n",
       "2  0.006570 -0.009878 -0.007995  ...  0.010726 -0.001199 -0.008188 -0.002768   \n",
       "3 -0.025466  0.016703 -0.012428  ...  0.026159 -0.034974  0.001514 -0.036586   \n",
       "4 -0.013997 -0.026975 -0.021823  ... -0.009963  0.014049  0.006492  0.016160   \n",
       "\n",
       "        195       196       197       198       199   ID  \n",
       "0 -0.016415 -0.012044  0.004751 -0.001735 -0.012538  0.0  \n",
       "1  0.003849 -0.010672 -0.001554  0.002522  0.018431  1.0  \n",
       "2  0.003849 -0.010672 -0.001554  0.002522  0.018431  2.0  \n",
       "3 -0.049705 -0.067765 -0.177720 -0.114349 -0.081355  3.0  \n",
       "4  0.016435  0.037297  0.080705  0.048989  0.039365  4.0  \n",
       "\n",
       "[5 rows x 201 columns]"
      ]
     },
     "execution_count": 16,
     "metadata": {},
     "output_type": "execute_result"
    }
   ],
   "source": [
    "svd_truncated = TruncatedSVD(n_components=200)\n",
    "truncated_train = pd.DataFrame(svd_truncated.fit_transform(train2))\n",
    "truncated_train[\"ID\"] = train[\"ID\"]\n",
    "truncated_train.set_index(\"ID\")\n",
    "truncated_train.head()"
   ]
  },
  {
   "cell_type": "markdown",
   "metadata": {},
   "source": [
    "As colunas de \"Gene\" e \"Variation\" também possuem informações importantes e precisam ser incluídas no dataset final, entretanto as mesmas possuem um formato diferente da coluna de texto o que exige uma abordagem diferente também\n",
    "Utilizarei one hot encoding de maneira a viabilizar o uso das variáveis categóricas"
   ]
  },
  {
   "cell_type": "code",
   "execution_count": 17,
   "metadata": {
    "scrolled": true
   },
   "outputs": [
    {
     "data": {
      "text/html": [
       "<div>\n",
       "<style scoped>\n",
       "    .dataframe tbody tr th:only-of-type {\n",
       "        vertical-align: middle;\n",
       "    }\n",
       "\n",
       "    .dataframe tbody tr th {\n",
       "        vertical-align: top;\n",
       "    }\n",
       "\n",
       "    .dataframe thead th {\n",
       "        text-align: right;\n",
       "    }\n",
       "</style>\n",
       "<table border=\"1\" class=\"dataframe\">\n",
       "  <thead>\n",
       "    <tr style=\"text-align: right;\">\n",
       "      <th></th>\n",
       "      <th>ID</th>\n",
       "      <th>Gene_ACVR1</th>\n",
       "      <th>Gene_AGO2</th>\n",
       "      <th>Gene_AKT1</th>\n",
       "      <th>Gene_AKT2</th>\n",
       "      <th>Gene_AKT3</th>\n",
       "      <th>Gene_ALK</th>\n",
       "      <th>Gene_APC</th>\n",
       "      <th>Gene_AR</th>\n",
       "      <th>Gene_ARAF</th>\n",
       "      <th>...</th>\n",
       "      <th>Variation_Y87N</th>\n",
       "      <th>Variation_Y901C</th>\n",
       "      <th>Variation_Y931C</th>\n",
       "      <th>Variation_Y98H</th>\n",
       "      <th>Variation_Y98N</th>\n",
       "      <th>Variation_YAP1-FAM118B Fusion</th>\n",
       "      <th>Variation_YAP1-MAMLD1 Fusion</th>\n",
       "      <th>Variation_ZC3H7B-BCOR Fusion</th>\n",
       "      <th>Variation_ZNF198-FGFR1 Fusion</th>\n",
       "      <th>Variation_p61BRAF</th>\n",
       "    </tr>\n",
       "  </thead>\n",
       "  <tbody>\n",
       "    <tr>\n",
       "      <th>0</th>\n",
       "      <td>0</td>\n",
       "      <td>0</td>\n",
       "      <td>0</td>\n",
       "      <td>0</td>\n",
       "      <td>0</td>\n",
       "      <td>0</td>\n",
       "      <td>0</td>\n",
       "      <td>0</td>\n",
       "      <td>0</td>\n",
       "      <td>0</td>\n",
       "      <td>...</td>\n",
       "      <td>0</td>\n",
       "      <td>0</td>\n",
       "      <td>0</td>\n",
       "      <td>0</td>\n",
       "      <td>0</td>\n",
       "      <td>0</td>\n",
       "      <td>0</td>\n",
       "      <td>0</td>\n",
       "      <td>0</td>\n",
       "      <td>0</td>\n",
       "    </tr>\n",
       "    <tr>\n",
       "      <th>1</th>\n",
       "      <td>1</td>\n",
       "      <td>0</td>\n",
       "      <td>0</td>\n",
       "      <td>0</td>\n",
       "      <td>0</td>\n",
       "      <td>0</td>\n",
       "      <td>0</td>\n",
       "      <td>0</td>\n",
       "      <td>0</td>\n",
       "      <td>0</td>\n",
       "      <td>...</td>\n",
       "      <td>0</td>\n",
       "      <td>0</td>\n",
       "      <td>0</td>\n",
       "      <td>0</td>\n",
       "      <td>0</td>\n",
       "      <td>0</td>\n",
       "      <td>0</td>\n",
       "      <td>0</td>\n",
       "      <td>0</td>\n",
       "      <td>0</td>\n",
       "    </tr>\n",
       "    <tr>\n",
       "      <th>2</th>\n",
       "      <td>2</td>\n",
       "      <td>0</td>\n",
       "      <td>0</td>\n",
       "      <td>0</td>\n",
       "      <td>0</td>\n",
       "      <td>0</td>\n",
       "      <td>0</td>\n",
       "      <td>0</td>\n",
       "      <td>0</td>\n",
       "      <td>0</td>\n",
       "      <td>...</td>\n",
       "      <td>0</td>\n",
       "      <td>0</td>\n",
       "      <td>0</td>\n",
       "      <td>0</td>\n",
       "      <td>0</td>\n",
       "      <td>0</td>\n",
       "      <td>0</td>\n",
       "      <td>0</td>\n",
       "      <td>0</td>\n",
       "      <td>0</td>\n",
       "    </tr>\n",
       "    <tr>\n",
       "      <th>3</th>\n",
       "      <td>3</td>\n",
       "      <td>0</td>\n",
       "      <td>0</td>\n",
       "      <td>0</td>\n",
       "      <td>0</td>\n",
       "      <td>0</td>\n",
       "      <td>0</td>\n",
       "      <td>0</td>\n",
       "      <td>0</td>\n",
       "      <td>0</td>\n",
       "      <td>...</td>\n",
       "      <td>0</td>\n",
       "      <td>0</td>\n",
       "      <td>0</td>\n",
       "      <td>0</td>\n",
       "      <td>0</td>\n",
       "      <td>0</td>\n",
       "      <td>0</td>\n",
       "      <td>0</td>\n",
       "      <td>0</td>\n",
       "      <td>0</td>\n",
       "    </tr>\n",
       "    <tr>\n",
       "      <th>4</th>\n",
       "      <td>4</td>\n",
       "      <td>0</td>\n",
       "      <td>0</td>\n",
       "      <td>0</td>\n",
       "      <td>0</td>\n",
       "      <td>0</td>\n",
       "      <td>0</td>\n",
       "      <td>0</td>\n",
       "      <td>0</td>\n",
       "      <td>0</td>\n",
       "      <td>...</td>\n",
       "      <td>0</td>\n",
       "      <td>0</td>\n",
       "      <td>0</td>\n",
       "      <td>0</td>\n",
       "      <td>0</td>\n",
       "      <td>0</td>\n",
       "      <td>0</td>\n",
       "      <td>0</td>\n",
       "      <td>0</td>\n",
       "      <td>0</td>\n",
       "    </tr>\n",
       "  </tbody>\n",
       "</table>\n",
       "<p>5 rows × 3254 columns</p>\n",
       "</div>"
      ],
      "text/plain": [
       "   ID  Gene_ACVR1  Gene_AGO2  Gene_AKT1  Gene_AKT2  Gene_AKT3  Gene_ALK  \\\n",
       "0   0           0          0          0          0          0         0   \n",
       "1   1           0          0          0          0          0         0   \n",
       "2   2           0          0          0          0          0         0   \n",
       "3   3           0          0          0          0          0         0   \n",
       "4   4           0          0          0          0          0         0   \n",
       "\n",
       "   Gene_APC  Gene_AR  Gene_ARAF  ...  Variation_Y87N  Variation_Y901C  \\\n",
       "0         0        0          0  ...               0                0   \n",
       "1         0        0          0  ...               0                0   \n",
       "2         0        0          0  ...               0                0   \n",
       "3         0        0          0  ...               0                0   \n",
       "4         0        0          0  ...               0                0   \n",
       "\n",
       "   Variation_Y931C  Variation_Y98H  Variation_Y98N  \\\n",
       "0                0               0               0   \n",
       "1                0               0               0   \n",
       "2                0               0               0   \n",
       "3                0               0               0   \n",
       "4                0               0               0   \n",
       "\n",
       "   Variation_YAP1-FAM118B Fusion  Variation_YAP1-MAMLD1 Fusion  \\\n",
       "0                              0                             0   \n",
       "1                              0                             0   \n",
       "2                              0                             0   \n",
       "3                              0                             0   \n",
       "4                              0                             0   \n",
       "\n",
       "   Variation_ZC3H7B-BCOR Fusion  Variation_ZNF198-FGFR1 Fusion  \\\n",
       "0                             0                              0   \n",
       "1                             0                              0   \n",
       "2                             0                              0   \n",
       "3                             0                              0   \n",
       "4                             0                              0   \n",
       "\n",
       "   Variation_p61BRAF  \n",
       "0                  0  \n",
       "1                  0  \n",
       "2                  0  \n",
       "3                  0  \n",
       "4                  0  \n",
       "\n",
       "[5 rows x 3254 columns]"
      ]
     },
     "execution_count": 17,
     "metadata": {},
     "output_type": "execute_result"
    }
   ],
   "source": [
    "one_hot_enc_gene_var = pd.get_dummies(train,columns = [\"Gene\",\"Variation\"],drop_first=True)\n",
    "one_hot_enc_gene_var.drop([\"Text\",\"Text2\",\"Class\"], axis = 1, inplace = True)\n",
    "one_hot_enc_gene_var.head()"
   ]
  },
  {
   "cell_type": "code",
   "execution_count": 18,
   "metadata": {
    "scrolled": false
   },
   "outputs": [],
   "source": [
    "one_hot_enc_gene_var = one_hot_enc_gene_var.set_index(\"ID\")\n",
    "train = train.set_index(\"ID\")"
   ]
  },
  {
   "cell_type": "code",
   "execution_count": 19,
   "metadata": {
    "scrolled": true
   },
   "outputs": [
    {
     "data": {
      "text/html": [
       "<div>\n",
       "<style scoped>\n",
       "    .dataframe tbody tr th:only-of-type {\n",
       "        vertical-align: middle;\n",
       "    }\n",
       "\n",
       "    .dataframe tbody tr th {\n",
       "        vertical-align: top;\n",
       "    }\n",
       "\n",
       "    .dataframe thead th {\n",
       "        text-align: right;\n",
       "    }\n",
       "</style>\n",
       "<table border=\"1\" class=\"dataframe\">\n",
       "  <thead>\n",
       "    <tr style=\"text-align: right;\">\n",
       "      <th></th>\n",
       "      <th>Gene_ACVR1</th>\n",
       "      <th>Gene_AGO2</th>\n",
       "      <th>Gene_AKT1</th>\n",
       "      <th>Gene_AKT2</th>\n",
       "      <th>Gene_AKT3</th>\n",
       "      <th>Gene_ALK</th>\n",
       "      <th>Gene_APC</th>\n",
       "      <th>Gene_AR</th>\n",
       "      <th>Gene_ARAF</th>\n",
       "      <th>Gene_ARID1A</th>\n",
       "      <th>...</th>\n",
       "      <th>Variation_Y87N</th>\n",
       "      <th>Variation_Y901C</th>\n",
       "      <th>Variation_Y931C</th>\n",
       "      <th>Variation_Y98H</th>\n",
       "      <th>Variation_Y98N</th>\n",
       "      <th>Variation_YAP1-FAM118B Fusion</th>\n",
       "      <th>Variation_YAP1-MAMLD1 Fusion</th>\n",
       "      <th>Variation_ZC3H7B-BCOR Fusion</th>\n",
       "      <th>Variation_ZNF198-FGFR1 Fusion</th>\n",
       "      <th>Variation_p61BRAF</th>\n",
       "    </tr>\n",
       "    <tr>\n",
       "      <th>ID</th>\n",
       "      <th></th>\n",
       "      <th></th>\n",
       "      <th></th>\n",
       "      <th></th>\n",
       "      <th></th>\n",
       "      <th></th>\n",
       "      <th></th>\n",
       "      <th></th>\n",
       "      <th></th>\n",
       "      <th></th>\n",
       "      <th></th>\n",
       "      <th></th>\n",
       "      <th></th>\n",
       "      <th></th>\n",
       "      <th></th>\n",
       "      <th></th>\n",
       "      <th></th>\n",
       "      <th></th>\n",
       "      <th></th>\n",
       "      <th></th>\n",
       "      <th></th>\n",
       "    </tr>\n",
       "  </thead>\n",
       "  <tbody>\n",
       "    <tr>\n",
       "      <th>0</th>\n",
       "      <td>0</td>\n",
       "      <td>0</td>\n",
       "      <td>0</td>\n",
       "      <td>0</td>\n",
       "      <td>0</td>\n",
       "      <td>0</td>\n",
       "      <td>0</td>\n",
       "      <td>0</td>\n",
       "      <td>0</td>\n",
       "      <td>0</td>\n",
       "      <td>...</td>\n",
       "      <td>0</td>\n",
       "      <td>0</td>\n",
       "      <td>0</td>\n",
       "      <td>0</td>\n",
       "      <td>0</td>\n",
       "      <td>0</td>\n",
       "      <td>0</td>\n",
       "      <td>0</td>\n",
       "      <td>0</td>\n",
       "      <td>0</td>\n",
       "    </tr>\n",
       "    <tr>\n",
       "      <th>1</th>\n",
       "      <td>0</td>\n",
       "      <td>0</td>\n",
       "      <td>0</td>\n",
       "      <td>0</td>\n",
       "      <td>0</td>\n",
       "      <td>0</td>\n",
       "      <td>0</td>\n",
       "      <td>0</td>\n",
       "      <td>0</td>\n",
       "      <td>0</td>\n",
       "      <td>...</td>\n",
       "      <td>0</td>\n",
       "      <td>0</td>\n",
       "      <td>0</td>\n",
       "      <td>0</td>\n",
       "      <td>0</td>\n",
       "      <td>0</td>\n",
       "      <td>0</td>\n",
       "      <td>0</td>\n",
       "      <td>0</td>\n",
       "      <td>0</td>\n",
       "    </tr>\n",
       "    <tr>\n",
       "      <th>2</th>\n",
       "      <td>0</td>\n",
       "      <td>0</td>\n",
       "      <td>0</td>\n",
       "      <td>0</td>\n",
       "      <td>0</td>\n",
       "      <td>0</td>\n",
       "      <td>0</td>\n",
       "      <td>0</td>\n",
       "      <td>0</td>\n",
       "      <td>0</td>\n",
       "      <td>...</td>\n",
       "      <td>0</td>\n",
       "      <td>0</td>\n",
       "      <td>0</td>\n",
       "      <td>0</td>\n",
       "      <td>0</td>\n",
       "      <td>0</td>\n",
       "      <td>0</td>\n",
       "      <td>0</td>\n",
       "      <td>0</td>\n",
       "      <td>0</td>\n",
       "    </tr>\n",
       "    <tr>\n",
       "      <th>3</th>\n",
       "      <td>0</td>\n",
       "      <td>0</td>\n",
       "      <td>0</td>\n",
       "      <td>0</td>\n",
       "      <td>0</td>\n",
       "      <td>0</td>\n",
       "      <td>0</td>\n",
       "      <td>0</td>\n",
       "      <td>0</td>\n",
       "      <td>0</td>\n",
       "      <td>...</td>\n",
       "      <td>0</td>\n",
       "      <td>0</td>\n",
       "      <td>0</td>\n",
       "      <td>0</td>\n",
       "      <td>0</td>\n",
       "      <td>0</td>\n",
       "      <td>0</td>\n",
       "      <td>0</td>\n",
       "      <td>0</td>\n",
       "      <td>0</td>\n",
       "    </tr>\n",
       "    <tr>\n",
       "      <th>4</th>\n",
       "      <td>0</td>\n",
       "      <td>0</td>\n",
       "      <td>0</td>\n",
       "      <td>0</td>\n",
       "      <td>0</td>\n",
       "      <td>0</td>\n",
       "      <td>0</td>\n",
       "      <td>0</td>\n",
       "      <td>0</td>\n",
       "      <td>0</td>\n",
       "      <td>...</td>\n",
       "      <td>0</td>\n",
       "      <td>0</td>\n",
       "      <td>0</td>\n",
       "      <td>0</td>\n",
       "      <td>0</td>\n",
       "      <td>0</td>\n",
       "      <td>0</td>\n",
       "      <td>0</td>\n",
       "      <td>0</td>\n",
       "      <td>0</td>\n",
       "    </tr>\n",
       "  </tbody>\n",
       "</table>\n",
       "<p>5 rows × 3253 columns</p>\n",
       "</div>"
      ],
      "text/plain": [
       "    Gene_ACVR1  Gene_AGO2  Gene_AKT1  Gene_AKT2  Gene_AKT3  Gene_ALK  \\\n",
       "ID                                                                     \n",
       "0            0          0          0          0          0         0   \n",
       "1            0          0          0          0          0         0   \n",
       "2            0          0          0          0          0         0   \n",
       "3            0          0          0          0          0         0   \n",
       "4            0          0          0          0          0         0   \n",
       "\n",
       "    Gene_APC  Gene_AR  Gene_ARAF  Gene_ARID1A  ...  Variation_Y87N  \\\n",
       "ID                                             ...                   \n",
       "0          0        0          0            0  ...               0   \n",
       "1          0        0          0            0  ...               0   \n",
       "2          0        0          0            0  ...               0   \n",
       "3          0        0          0            0  ...               0   \n",
       "4          0        0          0            0  ...               0   \n",
       "\n",
       "    Variation_Y901C  Variation_Y931C  Variation_Y98H  Variation_Y98N  \\\n",
       "ID                                                                     \n",
       "0                 0                0               0               0   \n",
       "1                 0                0               0               0   \n",
       "2                 0                0               0               0   \n",
       "3                 0                0               0               0   \n",
       "4                 0                0               0               0   \n",
       "\n",
       "    Variation_YAP1-FAM118B Fusion  Variation_YAP1-MAMLD1 Fusion  \\\n",
       "ID                                                                \n",
       "0                               0                             0   \n",
       "1                               0                             0   \n",
       "2                               0                             0   \n",
       "3                               0                             0   \n",
       "4                               0                             0   \n",
       "\n",
       "    Variation_ZC3H7B-BCOR Fusion  Variation_ZNF198-FGFR1 Fusion  \\\n",
       "ID                                                                \n",
       "0                              0                              0   \n",
       "1                              0                              0   \n",
       "2                              0                              0   \n",
       "3                              0                              0   \n",
       "4                              0                              0   \n",
       "\n",
       "    Variation_p61BRAF  \n",
       "ID                     \n",
       "0                   0  \n",
       "1                   0  \n",
       "2                   0  \n",
       "3                   0  \n",
       "4                   0  \n",
       "\n",
       "[5 rows x 3253 columns]"
      ]
     },
     "execution_count": 19,
     "metadata": {},
     "output_type": "execute_result"
    }
   ],
   "source": [
    "one_hot_enc_gene_var.head()"
   ]
  },
  {
   "cell_type": "code",
   "execution_count": 20,
   "metadata": {},
   "outputs": [
    {
     "data": {
      "text/html": [
       "<div>\n",
       "<style scoped>\n",
       "    .dataframe tbody tr th:only-of-type {\n",
       "        vertical-align: middle;\n",
       "    }\n",
       "\n",
       "    .dataframe tbody tr th {\n",
       "        vertical-align: top;\n",
       "    }\n",
       "\n",
       "    .dataframe thead th {\n",
       "        text-align: right;\n",
       "    }\n",
       "</style>\n",
       "<table border=\"1\" class=\"dataframe\">\n",
       "  <thead>\n",
       "    <tr style=\"text-align: right;\">\n",
       "      <th></th>\n",
       "      <th>0</th>\n",
       "      <th>1</th>\n",
       "      <th>2</th>\n",
       "      <th>3</th>\n",
       "      <th>4</th>\n",
       "      <th>5</th>\n",
       "      <th>6</th>\n",
       "      <th>7</th>\n",
       "      <th>8</th>\n",
       "      <th>9</th>\n",
       "      <th>...</th>\n",
       "      <th>41</th>\n",
       "      <th>42</th>\n",
       "      <th>43</th>\n",
       "      <th>44</th>\n",
       "      <th>45</th>\n",
       "      <th>46</th>\n",
       "      <th>47</th>\n",
       "      <th>48</th>\n",
       "      <th>49</th>\n",
       "      <th>ID</th>\n",
       "    </tr>\n",
       "  </thead>\n",
       "  <tbody>\n",
       "    <tr>\n",
       "      <th>0</th>\n",
       "      <td>-0.085605</td>\n",
       "      <td>-0.051975</td>\n",
       "      <td>-0.071414</td>\n",
       "      <td>0.010961</td>\n",
       "      <td>-0.176018</td>\n",
       "      <td>-0.289790</td>\n",
       "      <td>-0.709392</td>\n",
       "      <td>0.574529</td>\n",
       "      <td>-0.000615</td>\n",
       "      <td>-0.000306</td>\n",
       "      <td>...</td>\n",
       "      <td>-0.011327</td>\n",
       "      <td>-0.010551</td>\n",
       "      <td>0.005368</td>\n",
       "      <td>-0.00147</td>\n",
       "      <td>0.011597</td>\n",
       "      <td>0.006366</td>\n",
       "      <td>0.004388</td>\n",
       "      <td>-0.000590</td>\n",
       "      <td>-0.001987</td>\n",
       "      <td>0</td>\n",
       "    </tr>\n",
       "    <tr>\n",
       "      <th>1</th>\n",
       "      <td>-0.063159</td>\n",
       "      <td>-0.032183</td>\n",
       "      <td>-0.027989</td>\n",
       "      <td>-0.003428</td>\n",
       "      <td>-0.055313</td>\n",
       "      <td>-0.025283</td>\n",
       "      <td>-0.010818</td>\n",
       "      <td>-0.044898</td>\n",
       "      <td>0.006458</td>\n",
       "      <td>0.000118</td>\n",
       "      <td>...</td>\n",
       "      <td>-0.058520</td>\n",
       "      <td>-0.000263</td>\n",
       "      <td>0.041253</td>\n",
       "      <td>-0.00022</td>\n",
       "      <td>-0.003161</td>\n",
       "      <td>-0.000573</td>\n",
       "      <td>-0.027656</td>\n",
       "      <td>-0.002797</td>\n",
       "      <td>-0.004610</td>\n",
       "      <td>1</td>\n",
       "    </tr>\n",
       "    <tr>\n",
       "      <th>2</th>\n",
       "      <td>-0.063159</td>\n",
       "      <td>-0.032183</td>\n",
       "      <td>-0.027989</td>\n",
       "      <td>-0.003428</td>\n",
       "      <td>-0.055313</td>\n",
       "      <td>-0.025283</td>\n",
       "      <td>-0.010818</td>\n",
       "      <td>-0.044898</td>\n",
       "      <td>0.006458</td>\n",
       "      <td>0.000118</td>\n",
       "      <td>...</td>\n",
       "      <td>-0.058520</td>\n",
       "      <td>-0.000263</td>\n",
       "      <td>0.041253</td>\n",
       "      <td>-0.00022</td>\n",
       "      <td>-0.003161</td>\n",
       "      <td>-0.000573</td>\n",
       "      <td>-0.027656</td>\n",
       "      <td>-0.002797</td>\n",
       "      <td>-0.004610</td>\n",
       "      <td>2</td>\n",
       "    </tr>\n",
       "    <tr>\n",
       "      <th>3</th>\n",
       "      <td>-0.063159</td>\n",
       "      <td>-0.032183</td>\n",
       "      <td>-0.027989</td>\n",
       "      <td>-0.003428</td>\n",
       "      <td>-0.055313</td>\n",
       "      <td>-0.025283</td>\n",
       "      <td>-0.010818</td>\n",
       "      <td>-0.044898</td>\n",
       "      <td>0.006458</td>\n",
       "      <td>0.000118</td>\n",
       "      <td>...</td>\n",
       "      <td>-0.058520</td>\n",
       "      <td>-0.000263</td>\n",
       "      <td>0.041253</td>\n",
       "      <td>-0.00022</td>\n",
       "      <td>-0.003161</td>\n",
       "      <td>-0.000573</td>\n",
       "      <td>-0.027656</td>\n",
       "      <td>-0.002797</td>\n",
       "      <td>-0.004610</td>\n",
       "      <td>3</td>\n",
       "    </tr>\n",
       "    <tr>\n",
       "      <th>4</th>\n",
       "      <td>-0.063159</td>\n",
       "      <td>-0.032183</td>\n",
       "      <td>-0.027989</td>\n",
       "      <td>-0.003428</td>\n",
       "      <td>-0.055313</td>\n",
       "      <td>-0.025283</td>\n",
       "      <td>-0.010818</td>\n",
       "      <td>-0.044898</td>\n",
       "      <td>0.006458</td>\n",
       "      <td>0.000118</td>\n",
       "      <td>...</td>\n",
       "      <td>-0.058520</td>\n",
       "      <td>-0.000263</td>\n",
       "      <td>0.041253</td>\n",
       "      <td>-0.00022</td>\n",
       "      <td>-0.003161</td>\n",
       "      <td>-0.000573</td>\n",
       "      <td>-0.027656</td>\n",
       "      <td>-0.002797</td>\n",
       "      <td>-0.004610</td>\n",
       "      <td>4</td>\n",
       "    </tr>\n",
       "  </tbody>\n",
       "</table>\n",
       "<p>5 rows × 51 columns</p>\n",
       "</div>"
      ],
      "text/plain": [
       "          0         1         2         3         4         5         6  \\\n",
       "0 -0.085605 -0.051975 -0.071414  0.010961 -0.176018 -0.289790 -0.709392   \n",
       "1 -0.063159 -0.032183 -0.027989 -0.003428 -0.055313 -0.025283 -0.010818   \n",
       "2 -0.063159 -0.032183 -0.027989 -0.003428 -0.055313 -0.025283 -0.010818   \n",
       "3 -0.063159 -0.032183 -0.027989 -0.003428 -0.055313 -0.025283 -0.010818   \n",
       "4 -0.063159 -0.032183 -0.027989 -0.003428 -0.055313 -0.025283 -0.010818   \n",
       "\n",
       "          7         8         9  ...        41        42        43       44  \\\n",
       "0  0.574529 -0.000615 -0.000306  ... -0.011327 -0.010551  0.005368 -0.00147   \n",
       "1 -0.044898  0.006458  0.000118  ... -0.058520 -0.000263  0.041253 -0.00022   \n",
       "2 -0.044898  0.006458  0.000118  ... -0.058520 -0.000263  0.041253 -0.00022   \n",
       "3 -0.044898  0.006458  0.000118  ... -0.058520 -0.000263  0.041253 -0.00022   \n",
       "4 -0.044898  0.006458  0.000118  ... -0.058520 -0.000263  0.041253 -0.00022   \n",
       "\n",
       "         45        46        47        48        49  ID  \n",
       "0  0.011597  0.006366  0.004388 -0.000590 -0.001987   0  \n",
       "1 -0.003161 -0.000573 -0.027656 -0.002797 -0.004610   1  \n",
       "2 -0.003161 -0.000573 -0.027656 -0.002797 -0.004610   2  \n",
       "3 -0.003161 -0.000573 -0.027656 -0.002797 -0.004610   3  \n",
       "4 -0.003161 -0.000573 -0.027656 -0.002797 -0.004610   4  \n",
       "\n",
       "[5 rows x 51 columns]"
      ]
     },
     "execution_count": 20,
     "metadata": {},
     "output_type": "execute_result"
    }
   ],
   "source": [
    "svd_truncated = PCA(n_components=50)\n",
    "one_hot_truncated = pd.DataFrame(svd_truncated.fit_transform(one_hot_enc_gene_var.values))\n",
    "one_hot_truncated[\"ID\"] = train.index\n",
    "one_hot_truncated.set_index(\"ID\")\n",
    "one_hot_truncated.head()"
   ]
  },
  {
   "cell_type": "markdown",
   "metadata": {},
   "source": [
    "Criarei um novo dataframe utilizando para isso o dataframe constituído pelas variáveis resultantes da redução de dimensionalidade do texto e as variáveis resultado do one-hot-encoding fazendo um merge"
   ]
  },
  {
   "cell_type": "code",
   "execution_count": 21,
   "metadata": {
    "scrolled": false
   },
   "outputs": [
    {
     "data": {
      "text/html": [
       "<div>\n",
       "<style scoped>\n",
       "    .dataframe tbody tr th:only-of-type {\n",
       "        vertical-align: middle;\n",
       "    }\n",
       "\n",
       "    .dataframe tbody tr th {\n",
       "        vertical-align: top;\n",
       "    }\n",
       "\n",
       "    .dataframe thead th {\n",
       "        text-align: right;\n",
       "    }\n",
       "</style>\n",
       "<table border=\"1\" class=\"dataframe\">\n",
       "  <thead>\n",
       "    <tr style=\"text-align: right;\">\n",
       "      <th></th>\n",
       "      <th>0_x</th>\n",
       "      <th>1_x</th>\n",
       "      <th>2_x</th>\n",
       "      <th>3_x</th>\n",
       "      <th>4_x</th>\n",
       "      <th>5_x</th>\n",
       "      <th>6_x</th>\n",
       "      <th>7_x</th>\n",
       "      <th>8_x</th>\n",
       "      <th>9_x</th>\n",
       "      <th>...</th>\n",
       "      <th>41_y</th>\n",
       "      <th>42_y</th>\n",
       "      <th>43_y</th>\n",
       "      <th>44_y</th>\n",
       "      <th>45_y</th>\n",
       "      <th>46_y</th>\n",
       "      <th>47_y</th>\n",
       "      <th>48_y</th>\n",
       "      <th>49_y</th>\n",
       "      <th>Class</th>\n",
       "    </tr>\n",
       "  </thead>\n",
       "  <tbody>\n",
       "    <tr>\n",
       "      <th>0</th>\n",
       "      <td>0.221528</td>\n",
       "      <td>-0.081707</td>\n",
       "      <td>-0.016780</td>\n",
       "      <td>-0.071000</td>\n",
       "      <td>-0.000251</td>\n",
       "      <td>-0.009083</td>\n",
       "      <td>0.002798</td>\n",
       "      <td>-0.010887</td>\n",
       "      <td>-0.020465</td>\n",
       "      <td>-0.018840</td>\n",
       "      <td>...</td>\n",
       "      <td>-0.011327</td>\n",
       "      <td>-0.010551</td>\n",
       "      <td>0.005368</td>\n",
       "      <td>-0.00147</td>\n",
       "      <td>0.011597</td>\n",
       "      <td>0.006366</td>\n",
       "      <td>0.004388</td>\n",
       "      <td>-0.000590</td>\n",
       "      <td>-0.001987</td>\n",
       "      <td>1.0</td>\n",
       "    </tr>\n",
       "    <tr>\n",
       "      <th>1</th>\n",
       "      <td>0.165491</td>\n",
       "      <td>-0.087215</td>\n",
       "      <td>-0.038926</td>\n",
       "      <td>0.075832</td>\n",
       "      <td>-0.023038</td>\n",
       "      <td>0.028609</td>\n",
       "      <td>0.038840</td>\n",
       "      <td>0.006570</td>\n",
       "      <td>-0.009878</td>\n",
       "      <td>-0.007995</td>\n",
       "      <td>...</td>\n",
       "      <td>-0.058520</td>\n",
       "      <td>-0.000263</td>\n",
       "      <td>0.041253</td>\n",
       "      <td>-0.00022</td>\n",
       "      <td>-0.003161</td>\n",
       "      <td>-0.000573</td>\n",
       "      <td>-0.027656</td>\n",
       "      <td>-0.002797</td>\n",
       "      <td>-0.004610</td>\n",
       "      <td>2.0</td>\n",
       "    </tr>\n",
       "    <tr>\n",
       "      <th>2</th>\n",
       "      <td>0.165491</td>\n",
       "      <td>-0.087215</td>\n",
       "      <td>-0.038926</td>\n",
       "      <td>0.075832</td>\n",
       "      <td>-0.023038</td>\n",
       "      <td>0.028609</td>\n",
       "      <td>0.038840</td>\n",
       "      <td>0.006570</td>\n",
       "      <td>-0.009878</td>\n",
       "      <td>-0.007995</td>\n",
       "      <td>...</td>\n",
       "      <td>-0.058520</td>\n",
       "      <td>-0.000263</td>\n",
       "      <td>0.041253</td>\n",
       "      <td>-0.00022</td>\n",
       "      <td>-0.003161</td>\n",
       "      <td>-0.000573</td>\n",
       "      <td>-0.027656</td>\n",
       "      <td>-0.002797</td>\n",
       "      <td>-0.004610</td>\n",
       "      <td>2.0</td>\n",
       "    </tr>\n",
       "    <tr>\n",
       "      <th>3</th>\n",
       "      <td>0.182577</td>\n",
       "      <td>-0.072146</td>\n",
       "      <td>-0.025338</td>\n",
       "      <td>0.009030</td>\n",
       "      <td>-0.002064</td>\n",
       "      <td>-0.019587</td>\n",
       "      <td>-0.021849</td>\n",
       "      <td>-0.025466</td>\n",
       "      <td>0.016703</td>\n",
       "      <td>-0.012428</td>\n",
       "      <td>...</td>\n",
       "      <td>-0.058520</td>\n",
       "      <td>-0.000263</td>\n",
       "      <td>0.041253</td>\n",
       "      <td>-0.00022</td>\n",
       "      <td>-0.003161</td>\n",
       "      <td>-0.000573</td>\n",
       "      <td>-0.027656</td>\n",
       "      <td>-0.002797</td>\n",
       "      <td>-0.004610</td>\n",
       "      <td>3.0</td>\n",
       "    </tr>\n",
       "    <tr>\n",
       "      <th>4</th>\n",
       "      <td>0.241561</td>\n",
       "      <td>-0.075471</td>\n",
       "      <td>-0.001424</td>\n",
       "      <td>0.031511</td>\n",
       "      <td>-0.044637</td>\n",
       "      <td>0.036575</td>\n",
       "      <td>0.001294</td>\n",
       "      <td>-0.013997</td>\n",
       "      <td>-0.026975</td>\n",
       "      <td>-0.021823</td>\n",
       "      <td>...</td>\n",
       "      <td>-0.058520</td>\n",
       "      <td>-0.000263</td>\n",
       "      <td>0.041253</td>\n",
       "      <td>-0.00022</td>\n",
       "      <td>-0.003161</td>\n",
       "      <td>-0.000573</td>\n",
       "      <td>-0.027656</td>\n",
       "      <td>-0.002797</td>\n",
       "      <td>-0.004610</td>\n",
       "      <td>4.0</td>\n",
       "    </tr>\n",
       "  </tbody>\n",
       "</table>\n",
       "<p>5 rows × 252 columns</p>\n",
       "</div>"
      ],
      "text/plain": [
       "        0_x       1_x       2_x       3_x       4_x       5_x       6_x  \\\n",
       "0  0.221528 -0.081707 -0.016780 -0.071000 -0.000251 -0.009083  0.002798   \n",
       "1  0.165491 -0.087215 -0.038926  0.075832 -0.023038  0.028609  0.038840   \n",
       "2  0.165491 -0.087215 -0.038926  0.075832 -0.023038  0.028609  0.038840   \n",
       "3  0.182577 -0.072146 -0.025338  0.009030 -0.002064 -0.019587 -0.021849   \n",
       "4  0.241561 -0.075471 -0.001424  0.031511 -0.044637  0.036575  0.001294   \n",
       "\n",
       "        7_x       8_x       9_x  ...      41_y      42_y      43_y     44_y  \\\n",
       "0 -0.010887 -0.020465 -0.018840  ... -0.011327 -0.010551  0.005368 -0.00147   \n",
       "1  0.006570 -0.009878 -0.007995  ... -0.058520 -0.000263  0.041253 -0.00022   \n",
       "2  0.006570 -0.009878 -0.007995  ... -0.058520 -0.000263  0.041253 -0.00022   \n",
       "3 -0.025466  0.016703 -0.012428  ... -0.058520 -0.000263  0.041253 -0.00022   \n",
       "4 -0.013997 -0.026975 -0.021823  ... -0.058520 -0.000263  0.041253 -0.00022   \n",
       "\n",
       "       45_y      46_y      47_y      48_y      49_y  Class  \n",
       "0  0.011597  0.006366  0.004388 -0.000590 -0.001987    1.0  \n",
       "1 -0.003161 -0.000573 -0.027656 -0.002797 -0.004610    2.0  \n",
       "2 -0.003161 -0.000573 -0.027656 -0.002797 -0.004610    2.0  \n",
       "3 -0.003161 -0.000573 -0.027656 -0.002797 -0.004610    3.0  \n",
       "4 -0.003161 -0.000573 -0.027656 -0.002797 -0.004610    4.0  \n",
       "\n",
       "[5 rows x 252 columns]"
      ]
     },
     "execution_count": 21,
     "metadata": {},
     "output_type": "execute_result"
    }
   ],
   "source": [
    "train2 = pd.merge(truncated_train,one_hot_truncated, how = 'inner', on = \"ID\")\n",
    "train2[\"Class\"] = train[\"Class\"]\n",
    "train2.dropna(inplace = True)\n",
    "train2.head()"
   ]
  },
  {
   "cell_type": "code",
   "execution_count": 22,
   "metadata": {},
   "outputs": [],
   "source": [
    "train2.drop([\"ID\"], axis =1, inplace=True)"
   ]
  },
  {
   "cell_type": "markdown",
   "metadata": {},
   "source": [
    "Como os datasets de teste do kaggle não possuem a coluna de target e preciso de dados para testar utilizarei o train_test_split do scikit-learn de maneira a dividir o dataset"
   ]
  },
  {
   "cell_type": "code",
   "execution_count": 23,
   "metadata": {},
   "outputs": [],
   "source": [
    "X = train2.drop(\"Class\", axis=1)\n",
    "y = train2.Class\n",
    "\n",
    "X_train, X_test, y_train, y_test  = train_test_split(X,y, test_size=0.20,shuffle=True)"
   ]
  },
  {
   "cell_type": "markdown",
   "metadata": {},
   "source": [
    "Iniciarei o treinamento de diversos modelos afim de tentar encontrar o que mais se adequa ao problema, iniciando com o XGBoost"
   ]
  },
  {
   "cell_type": "code",
   "execution_count": 24,
   "metadata": {
    "scrolled": false
   },
   "outputs": [
    {
     "name": "stdout",
     "output_type": "stream",
     "text": [
      "[11:08:48] WARNING: C:/Users/Administrator/workspace/xgboost-win64_release_1.5.0/src/learner.cc:1115: Starting in XGBoost 1.3.0, the default evaluation metric used with the objective 'multi:softprob' was changed from 'merror' to 'mlogloss'. Explicitly set eval_metric if you'd like to restore the old behavior.\n"
     ]
    },
    {
     "data": {
      "text/plain": [
       "XGBClassifier(base_score=0.5, booster='gbtree', colsample_bylevel=1,\n",
       "              colsample_bynode=1, colsample_bytree=1, enable_categorical=False,\n",
       "              gamma=0, gpu_id=-1, importance_type=None,\n",
       "              interaction_constraints='', learning_rate=0.300000012,\n",
       "              max_delta_step=0, max_depth=6, min_child_weight=1, missing=nan,\n",
       "              monotone_constraints='()', n_estimators=100, n_jobs=8,\n",
       "              num_parallel_tree=1, objective='multi:softprob', predictor='auto',\n",
       "              random_state=0, reg_alpha=0, reg_lambda=1, scale_pos_weight=None,\n",
       "              subsample=1, tree_method='exact', validate_parameters=1,\n",
       "              verbosity=None)"
      ]
     },
     "execution_count": 24,
     "metadata": {},
     "output_type": "execute_result"
    }
   ],
   "source": [
    "modelXGB = xgboost.XGBClassifier()\n",
    "modelXGB.fit(X_train,y_train)"
   ]
  },
  {
   "cell_type": "code",
   "execution_count": 25,
   "metadata": {
    "scrolled": true
   },
   "outputs": [
    {
     "data": {
      "text/plain": [
       "0.5151057401812689"
      ]
     },
     "execution_count": 25,
     "metadata": {},
     "output_type": "execute_result"
    }
   ],
   "source": [
    "predXGBTest = modelXGB.predict(X_test)\n",
    "metrics.accuracy_score(y_test,predXGBTest)"
   ]
  },
  {
   "cell_type": "code",
   "execution_count": 26,
   "metadata": {},
   "outputs": [
    {
     "data": {
      "text/plain": [
       "array([0.44545455, 0.3375    , 0.23076923, 0.58778626, 0.24175824,\n",
       "       0.33333333, 0.67561521, 0.2       , 0.77777778])"
      ]
     },
     "execution_count": 26,
     "metadata": {},
     "output_type": "execute_result"
    }
   ],
   "source": [
    "metrics.f1_score(y_test,predXGBTest, average=None)"
   ]
  },
  {
   "cell_type": "code",
   "execution_count": 27,
   "metadata": {},
   "outputs": [
    {
     "data": {
      "text/plain": [
       "1.0"
      ]
     },
     "execution_count": 27,
     "metadata": {},
     "output_type": "execute_result"
    }
   ],
   "source": [
    "predXGBTrain = modelXGB.predict(X_train)\n",
    "metrics.accuracy_score(y_train,predXGBTrain)"
   ]
  },
  {
   "cell_type": "markdown",
   "metadata": {},
   "source": [
    "Após o treinamento do XGBoost vejo que o mesmo apresentou uma performance em teste na casa dos 51%, entretanto apresentou um performance em treino de 100% o que indica Overfit, para tentar resolver o problema posso tentar outras técnicas ou outros algoritmos"
   ]
  },
  {
   "cell_type": "code",
   "execution_count": 45,
   "metadata": {},
   "outputs": [],
   "source": [
    "from sklearn.ensemble import RandomForestClassifier\n",
    "rf = RandomForestClassifier()"
   ]
  },
  {
   "cell_type": "code",
   "execution_count": 46,
   "metadata": {
    "scrolled": true
   },
   "outputs": [],
   "source": [
    "modelrf = rf.fit(X_train,y_train)"
   ]
  },
  {
   "cell_type": "code",
   "execution_count": 47,
   "metadata": {
    "scrolled": true
   },
   "outputs": [
    {
     "data": {
      "text/plain": [
       "0.5317220543806647"
      ]
     },
     "execution_count": 47,
     "metadata": {},
     "output_type": "execute_result"
    }
   ],
   "source": [
    "predTest = modelrf.predict(X_test)\n",
    "metrics.accuracy_score(y_test,predTest)"
   ]
  },
  {
   "cell_type": "code",
   "execution_count": 48,
   "metadata": {
    "scrolled": true
   },
   "outputs": [
    {
     "data": {
      "text/plain": [
       "0.8653555219364599"
      ]
     },
     "execution_count": 48,
     "metadata": {},
     "output_type": "execute_result"
    }
   ],
   "source": [
    "predTrain = modelrf.predict(X_train)\n",
    "metrics.accuracy_score(y_train,predTrain)"
   ]
  },
  {
   "cell_type": "markdown",
   "metadata": {},
   "source": [
    "O random Forest, apesar de apresentar uma performance em treino inferior apresentou uma performance em teste melhor e portanto tem menos indícios de overfit, embora ainda não esteja perfeito"
   ]
  },
  {
   "cell_type": "markdown",
   "metadata": {},
   "source": [
    "O modelo com árvore de decisão é similar ao random forest porém com uma performance um pouco inferior, o que é esperado"
   ]
  },
  {
   "cell_type": "code",
   "execution_count": 32,
   "metadata": {},
   "outputs": [],
   "source": [
    "from sklearn.tree import DecisionTreeClassifier\n",
    "tree = DecisionTreeClassifier()"
   ]
  },
  {
   "cell_type": "code",
   "execution_count": 33,
   "metadata": {
    "scrolled": true
   },
   "outputs": [
    {
     "data": {
      "text/plain": [
       "(0.48338368580060426, 0.8653555219364599)"
      ]
     },
     "execution_count": 33,
     "metadata": {},
     "output_type": "execute_result"
    }
   ],
   "source": [
    "modelTree = tree.fit(X_train,y_train)\n",
    "predTest = modelTree.predict(X_test)\n",
    "predTrain = modelTree.predict(X_train)\n",
    "metrics.accuracy_score(y_test, predTest), metrics.accuracy_score(y_train,predTrain)"
   ]
  },
  {
   "cell_type": "code",
   "execution_count": 34,
   "metadata": {},
   "outputs": [
    {
     "data": {
      "text/plain": [
       "(2644, 250)"
      ]
     },
     "execution_count": 34,
     "metadata": {},
     "output_type": "execute_result"
    }
   ],
   "source": [
    "X_train.shape"
   ]
  },
  {
   "cell_type": "code",
   "execution_count": 35,
   "metadata": {},
   "outputs": [],
   "source": [
    "def baseline_model():\n",
    "    model = Sequential()\n",
    "    model.add(Dense(512, input_dim=250, activation='relu'))\n",
    "    model.add(Dropout(0.2))\n",
    "    model.add(Dense(512, activation='relu'))\n",
    "    model.add(Dropout(0.2))\n",
    "    model.add(Dense(512, activation='relu'))\n",
    "    model.add(Dropout(0.2))\n",
    "    model.add(Dense(512, activation='relu'))\n",
    "    model.add(Dense(1, activation=\"softmax\"))\n",
    "    model.compile(loss='poisson', optimizer='sgd', metrics=['accuracy'])\n",
    "    return model"
   ]
  },
  {
   "cell_type": "code",
   "execution_count": 36,
   "metadata": {},
   "outputs": [],
   "source": [
    "modelNN = baseline_model()"
   ]
  },
  {
   "cell_type": "code",
   "execution_count": 37,
   "metadata": {
    "scrolled": true
   },
   "outputs": [
    {
     "name": "stdout",
     "output_type": "stream",
     "text": [
      "Epoch 1/10\n",
      "34/34 [==============================] - 1s 17ms/step - loss: 1.0000 - accuracy: 0.1745 - val_loss: 1.0000 - val_accuracy: 0.1588\n",
      "Epoch 2/10\n",
      "34/34 [==============================] - 0s 12ms/step - loss: 1.0000 - accuracy: 0.1745 - val_loss: 1.0000 - val_accuracy: 0.1588\n",
      "Epoch 3/10\n",
      "34/34 [==============================] - 0s 12ms/step - loss: 1.0000 - accuracy: 0.1745 - val_loss: 1.0000 - val_accuracy: 0.1588\n",
      "Epoch 4/10\n",
      "34/34 [==============================] - 0s 12ms/step - loss: 1.0000 - accuracy: 0.1745 - val_loss: 1.0000 - val_accuracy: 0.1588\n",
      "Epoch 5/10\n",
      "34/34 [==============================] - 0s 12ms/step - loss: 1.0000 - accuracy: 0.1745 - val_loss: 1.0000 - val_accuracy: 0.1588\n",
      "Epoch 6/10\n",
      "34/34 [==============================] - 0s 12ms/step - loss: 1.0000 - accuracy: 0.1745 - val_loss: 1.0000 - val_accuracy: 0.1588\n",
      "Epoch 7/10\n",
      "34/34 [==============================] - 0s 12ms/step - loss: 1.0000 - accuracy: 0.1745 - val_loss: 1.0000 - val_accuracy: 0.1588\n",
      "Epoch 8/10\n",
      "34/34 [==============================] - 0s 12ms/step - loss: 1.0000 - accuracy: 0.1745 - val_loss: 1.0000 - val_accuracy: 0.1588\n",
      "Epoch 9/10\n",
      "34/34 [==============================] - 0s 12ms/step - loss: 1.0000 - accuracy: 0.1745 - val_loss: 1.0000 - val_accuracy: 0.1588\n",
      "Epoch 10/10\n",
      "34/34 [==============================] - 0s 12ms/step - loss: 1.0000 - accuracy: 0.1745 - val_loss: 1.0000 - val_accuracy: 0.1588\n"
     ]
    }
   ],
   "source": [
    "estimatorNN = modelNN.fit(X_train,y_train,epochs = 10, validation_split=0.2, batch_size=64)"
   ]
  },
  {
   "cell_type": "code",
   "execution_count": 38,
   "metadata": {},
   "outputs": [
    {
     "data": {
      "text/plain": [
       "{'loss': [0.9999996423721313,\n",
       "  0.9999996423721313,\n",
       "  0.9999996423721313,\n",
       "  0.9999997615814209,\n",
       "  0.9999996423721313,\n",
       "  0.9999997615814209,\n",
       "  0.9999996423721313,\n",
       "  0.9999996423721313,\n",
       "  0.9999996423721313,\n",
       "  0.9999996423721313],\n",
       " 'accuracy': [0.17446808516979218,\n",
       "  0.17446808516979218,\n",
       "  0.17446808516979218,\n",
       "  0.17446808516979218,\n",
       "  0.17446808516979218,\n",
       "  0.17446808516979218,\n",
       "  0.17446808516979218,\n",
       "  0.17446808516979218,\n",
       "  0.17446808516979218,\n",
       "  0.17446808516979218],\n",
       " 'val_loss': [0.9999994039535522,\n",
       "  0.9999994039535522,\n",
       "  0.9999994039535522,\n",
       "  0.9999994039535522,\n",
       "  0.9999994039535522,\n",
       "  0.9999994039535522,\n",
       "  0.9999994039535522,\n",
       "  0.9999994039535522,\n",
       "  0.9999994039535522,\n",
       "  0.9999994039535522],\n",
       " 'val_accuracy': [0.15879017114639282,\n",
       "  0.15879017114639282,\n",
       "  0.15879017114639282,\n",
       "  0.15879017114639282,\n",
       "  0.15879017114639282,\n",
       "  0.15879017114639282,\n",
       "  0.15879017114639282,\n",
       "  0.15879017114639282,\n",
       "  0.15879017114639282,\n",
       "  0.15879017114639282]}"
      ]
     },
     "execution_count": 38,
     "metadata": {},
     "output_type": "execute_result"
    }
   ],
   "source": [
    "estimatorNN.history"
   ]
  },
  {
   "cell_type": "code",
   "execution_count": 39,
   "metadata": {},
   "outputs": [],
   "source": [
    "max_features = 2000"
   ]
  },
  {
   "cell_type": "code",
   "execution_count": 40,
   "metadata": {
    "scrolled": true
   },
   "outputs": [
    {
     "name": "stdout",
     "output_type": "stream",
     "text": [
      "Model: \"model\"\n",
      "_________________________________________________________________\n",
      " Layer (type)                Output Shape              Param #   \n",
      "=================================================================\n",
      " input_1 (InputLayer)        [(None, None)]            0         \n",
      "                                                                 \n",
      " embedding (Embedding)       (None, None, 256)         850944    \n",
      "                                                                 \n",
      " bidirectional (Bidirectiona  (None, None, 256)        394240    \n",
      " l)                                                              \n",
      "                                                                 \n",
      " bidirectional_1 (Bidirectio  (None, 256)              394240    \n",
      " nal)                                                            \n",
      "                                                                 \n",
      " dense_5 (Dense)             (None, 1)                 257       \n",
      "                                                                 \n",
      "=================================================================\n",
      "Total params: 1,639,681\n",
      "Trainable params: 1,639,681\n",
      "Non-trainable params: 0\n",
      "_________________________________________________________________\n"
     ]
    }
   ],
   "source": [
    "inputs = keras.Input(shape=(None,), dtype=\"float32\")\n",
    "\n",
    "x = Embedding(max_features, 256)(inputs)\n",
    "\n",
    "x = Bidirectional(LSTM(128, return_sequences=True))(x)\n",
    "x = Bidirectional(LSTM(128))(x)\n",
    "\n",
    "outputs = Dense(1, activation=\"sigmoid\")(x)\n",
    "\n",
    "model = keras.Model(inputs, outputs)\n",
    "model.summary()"
   ]
  },
  {
   "cell_type": "code",
   "execution_count": 41,
   "metadata": {},
   "outputs": [],
   "source": [
    "model.compile(optimizer=\"adam\", loss=\"categorical_crossentropy\", metrics = [\"accuracy\"])"
   ]
  },
  {
   "cell_type": "code",
   "execution_count": 42,
   "metadata": {
    "scrolled": false
   },
   "outputs": [
    {
     "name": "stdout",
     "output_type": "stream",
     "text": [
      "Epoch 1/2\n",
      "83/83 [==============================] - 89s 1s/step - loss: 0.0000e+00 - accuracy: 0.1691 - val_loss: 0.0000e+00 - val_accuracy: 0.1677\n",
      "Epoch 2/2\n",
      "83/83 [==============================] - 84s 1s/step - loss: 0.0000e+00 - accuracy: 0.1713 - val_loss: 0.0000e+00 - val_accuracy: 0.1677\n"
     ]
    },
    {
     "data": {
      "text/plain": [
       "<keras.callbacks.History at 0x14ee03254c8>"
      ]
     },
     "execution_count": 42,
     "metadata": {},
     "output_type": "execute_result"
    }
   ],
   "source": [
    "model.fit(X_train, y_train, batch_size=32, epochs=2, validation_data=(X_test, y_test))"
   ]
  },
  {
   "cell_type": "code",
   "execution_count": 43,
   "metadata": {},
   "outputs": [],
   "source": [
    "modelXGB.save_model(\"Modelo1.json\")"
   ]
  },
  {
   "cell_type": "code",
   "execution_count": 44,
   "metadata": {},
   "outputs": [
    {
     "name": "stderr",
     "output_type": "stream",
     "text": [
      "WARNING:absl:Found untraced functions such as lstm_cell_1_layer_call_fn, lstm_cell_1_layer_call_and_return_conditional_losses, lstm_cell_2_layer_call_fn, lstm_cell_2_layer_call_and_return_conditional_losses, lstm_cell_4_layer_call_fn while saving (showing 5 of 20). These functions will not be directly callable after loading.\n"
     ]
    },
    {
     "name": "stdout",
     "output_type": "stream",
     "text": [
      "INFO:tensorflow:Assets written to: modelKeras\\assets\n"
     ]
    },
    {
     "name": "stderr",
     "output_type": "stream",
     "text": [
      "INFO:tensorflow:Assets written to: modelKeras\\assets\n",
      "WARNING:absl:<keras.layers.recurrent.LSTMCell object at 0x0000014EDA074088> has the same name 'LSTMCell' as a built-in Keras object. Consider renaming <class 'keras.layers.recurrent.LSTMCell'> to avoid naming conflicts when loading with `tf.keras.models.load_model`. If renaming is not possible, pass the object in the `custom_objects` parameter of the load function.\n",
      "WARNING:absl:<keras.layers.recurrent.LSTMCell object at 0x0000014EDA075548> has the same name 'LSTMCell' as a built-in Keras object. Consider renaming <class 'keras.layers.recurrent.LSTMCell'> to avoid naming conflicts when loading with `tf.keras.models.load_model`. If renaming is not possible, pass the object in the `custom_objects` parameter of the load function.\n",
      "WARNING:absl:<keras.layers.recurrent.LSTMCell object at 0x0000014EDC4E1D08> has the same name 'LSTMCell' as a built-in Keras object. Consider renaming <class 'keras.layers.recurrent.LSTMCell'> to avoid naming conflicts when loading with `tf.keras.models.load_model`. If renaming is not possible, pass the object in the `custom_objects` parameter of the load function.\n",
      "WARNING:absl:<keras.layers.recurrent.LSTMCell object at 0x0000014EDC50EE88> has the same name 'LSTMCell' as a built-in Keras object. Consider renaming <class 'keras.layers.recurrent.LSTMCell'> to avoid naming conflicts when loading with `tf.keras.models.load_model`. If renaming is not possible, pass the object in the `custom_objects` parameter of the load function.\n"
     ]
    }
   ],
   "source": [
    "model.save(\"modelKeras\")"
   ]
  },
  {
   "cell_type": "code",
   "execution_count": 49,
   "metadata": {
    "scrolled": false
   },
   "outputs": [
    {
     "data": {
      "text/plain": [
       "['modelorf.joblib']"
      ]
     },
     "execution_count": 49,
     "metadata": {},
     "output_type": "execute_result"
    }
   ],
   "source": [
    "#O modelo com random forest também apresentou uma performance interessante, com menos overfit que o modelo com o XGBoost, por isso\n",
    "# irei salvá-lo para uso posterior caso necessário\n",
    "from joblib import dump, load\n",
    "dump(modelrf,\"modelorf.joblib\")"
   ]
  },
  {
   "cell_type": "markdown",
   "metadata": {},
   "source": [
    "Como último teste gostaria de treinar um modelo para realizar a previsão das classes utilizando apenas a informação referente aos textos\n",
    "A priori pode parecer incorreto entretanto dado o fato de que boa parte da complexidade desse projeto está justamente em conciliar a informação do texto com a informação categórica das outras variáveis irei realizar essa tentativa"
   ]
  },
  {
   "cell_type": "code",
   "execution_count": 56,
   "metadata": {},
   "outputs": [],
   "source": [
    "X = truncated_train.values\n",
    "y = train.Class\n",
    "\n",
    "X_train, X_test, y_train, y_test  = train_test_split(X,y, test_size=0.20,shuffle=True)"
   ]
  },
  {
   "cell_type": "code",
   "execution_count": 57,
   "metadata": {
    "scrolled": true
   },
   "outputs": [
    {
     "name": "stdout",
     "output_type": "stream",
     "text": [
      "[11:53:08] WARNING: C:/Users/Administrator/workspace/xgboost-win64_release_1.5.0/src/learner.cc:1115: Starting in XGBoost 1.3.0, the default evaluation metric used with the objective 'multi:softprob' was changed from 'merror' to 'mlogloss'. Explicitly set eval_metric if you'd like to restore the old behavior.\n"
     ]
    },
    {
     "data": {
      "text/plain": [
       "XGBClassifier(base_score=0.5, booster='gbtree', colsample_bylevel=1,\n",
       "              colsample_bynode=1, colsample_bytree=1, enable_categorical=False,\n",
       "              gamma=0, gpu_id=-1, importance_type=None,\n",
       "              interaction_constraints='', learning_rate=0.300000012,\n",
       "              max_delta_step=0, max_depth=6, min_child_weight=1, missing=nan,\n",
       "              monotone_constraints='()', n_estimators=100, n_jobs=8,\n",
       "              num_parallel_tree=1, objective='multi:softprob', predictor='auto',\n",
       "              random_state=0, reg_alpha=0, reg_lambda=1, scale_pos_weight=None,\n",
       "              subsample=1, tree_method='exact', validate_parameters=1,\n",
       "              verbosity=None)"
      ]
     },
     "execution_count": 57,
     "metadata": {},
     "output_type": "execute_result"
    }
   ],
   "source": [
    "modelXGB = xgboost.XGBClassifier()\n",
    "modelXGB.fit(X_train,y_train)"
   ]
  },
  {
   "cell_type": "code",
   "execution_count": 58,
   "metadata": {},
   "outputs": [
    {
     "data": {
      "text/plain": [
       "0.6746987951807228"
      ]
     },
     "execution_count": 58,
     "metadata": {},
     "output_type": "execute_result"
    }
   ],
   "source": [
    "predXGBTest = modelXGB.predict(X_test)\n",
    "metrics.accuracy_score(y_test,predXGBTest)"
   ]
  },
  {
   "cell_type": "code",
   "execution_count": 59,
   "metadata": {},
   "outputs": [
    {
     "data": {
      "text/plain": [
       "0.9935897435897436"
      ]
     },
     "execution_count": 59,
     "metadata": {},
     "output_type": "execute_result"
    }
   ],
   "source": [
    "predXGBTrain = modelXGB.predict(X_train)\n",
    "metrics.accuracy_score(y_train,predXGBTrain)"
   ]
  },
  {
   "cell_type": "code",
   "execution_count": 60,
   "metadata": {},
   "outputs": [
    {
     "data": {
      "text/plain": [
       "array([0.61157025, 0.55757576, 0.32      , 0.71586716, 0.56565657,\n",
       "       0.75247525, 0.77530864, 0.        , 0.61538462])"
      ]
     },
     "execution_count": 60,
     "metadata": {},
     "output_type": "execute_result"
    }
   ],
   "source": [
    "metrics.f1_score(y_test,predXGBTest, average=None)"
   ]
  },
  {
   "cell_type": "markdown",
   "metadata": {},
   "source": [
    "Curiosamente utilizar apenas as informações oriundas do texto apresentam um resultado melhor em relação ao uso das informações referentes a \"Gene\" e \"Variation\" a acurácia medida foi superior"
   ]
  }
 ],
 "metadata": {
  "kernelspec": {
   "display_name": "Python 3",
   "language": "python",
   "name": "python3"
  },
  "language_info": {
   "codemirror_mode": {
    "name": "ipython",
    "version": 3
   },
   "file_extension": ".py",
   "mimetype": "text/x-python",
   "name": "python",
   "nbconvert_exporter": "python",
   "pygments_lexer": "ipython3",
   "version": "3.7.6"
  }
 },
 "nbformat": 4,
 "nbformat_minor": 4
}
