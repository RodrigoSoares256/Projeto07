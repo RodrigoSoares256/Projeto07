{
 "cells": [
  {
   "cell_type": "code",
   "execution_count": 1,
   "metadata": {},
   "outputs": [],
   "source": [
    "import numpy as np\n",
    "import pandas as pd\n",
    "from sklearn.feature_extraction.text import TfidfVectorizer\n",
    "from nltk.corpus import stopwords\n",
    "from sklearn.model_selection import train_test_split\n",
    "from nltk.tokenize import word_tokenize\n",
    "from sklearn.decomposition import TruncatedSVD\n",
    "from sklearn import metrics\n",
    "import xgboost\n",
    "\n",
    "import string"
   ]
  },
  {
   "cell_type": "code",
   "execution_count": 2,
   "metadata": {},
   "outputs": [],
   "source": [
    "from keras.models import Sequential\n",
    "from keras.layers import Dense, Dropout, LSTM, Embedding, Input, RepeatVector, Bidirectional\n",
    "from keras.optimizer_v1 import SGD\n",
    "from tensorflow import keras"
   ]
  },
  {
   "cell_type": "code",
   "execution_count": 3,
   "metadata": {},
   "outputs": [],
   "source": [
    "import warnings\n",
    "warnings.filterwarnings(action = \"ignore\")"
   ]
  },
  {
   "cell_type": "code",
   "execution_count": 4,
   "metadata": {},
   "outputs": [],
   "source": [
    "dfTrain = pd.read_csv(\"training_text\", sep=\"\\|\\|\", engine='python', header=None, skiprows=1, names=[\"ID\",\"Text\"])\n",
    "dfTrainVariant = pd.read_csv(\"training_variants\")"
   ]
  },
  {
   "cell_type": "code",
   "execution_count": 5,
   "metadata": {},
   "outputs": [],
   "source": [
    "train = pd.merge(dfTrain,dfTrainVariant, how = \"inner\", on = \"ID\")"
   ]
  },
  {
   "cell_type": "code",
   "execution_count": 6,
   "metadata": {},
   "outputs": [
    {
     "data": {
      "text/html": [
       "<div>\n",
       "<style scoped>\n",
       "    .dataframe tbody tr th:only-of-type {\n",
       "        vertical-align: middle;\n",
       "    }\n",
       "\n",
       "    .dataframe tbody tr th {\n",
       "        vertical-align: top;\n",
       "    }\n",
       "\n",
       "    .dataframe thead th {\n",
       "        text-align: right;\n",
       "    }\n",
       "</style>\n",
       "<table border=\"1\" class=\"dataframe\">\n",
       "  <thead>\n",
       "    <tr style=\"text-align: right;\">\n",
       "      <th></th>\n",
       "      <th>ID</th>\n",
       "      <th>Text</th>\n",
       "      <th>Gene</th>\n",
       "      <th>Variation</th>\n",
       "      <th>Class</th>\n",
       "    </tr>\n",
       "  </thead>\n",
       "  <tbody>\n",
       "    <tr>\n",
       "      <th>0</th>\n",
       "      <td>0</td>\n",
       "      <td>Cyclin-dependent kinases (CDKs) regulate a var...</td>\n",
       "      <td>FAM58A</td>\n",
       "      <td>Truncating Mutations</td>\n",
       "      <td>1</td>\n",
       "    </tr>\n",
       "    <tr>\n",
       "      <th>1</th>\n",
       "      <td>1</td>\n",
       "      <td>Abstract Background  Non-small cell lung canc...</td>\n",
       "      <td>CBL</td>\n",
       "      <td>W802*</td>\n",
       "      <td>2</td>\n",
       "    </tr>\n",
       "    <tr>\n",
       "      <th>2</th>\n",
       "      <td>2</td>\n",
       "      <td>Abstract Background  Non-small cell lung canc...</td>\n",
       "      <td>CBL</td>\n",
       "      <td>Q249E</td>\n",
       "      <td>2</td>\n",
       "    </tr>\n",
       "    <tr>\n",
       "      <th>3</th>\n",
       "      <td>3</td>\n",
       "      <td>Recent evidence has demonstrated that acquired...</td>\n",
       "      <td>CBL</td>\n",
       "      <td>N454D</td>\n",
       "      <td>3</td>\n",
       "    </tr>\n",
       "    <tr>\n",
       "      <th>4</th>\n",
       "      <td>4</td>\n",
       "      <td>Oncogenic mutations in the monomeric Casitas B...</td>\n",
       "      <td>CBL</td>\n",
       "      <td>L399V</td>\n",
       "      <td>4</td>\n",
       "    </tr>\n",
       "  </tbody>\n",
       "</table>\n",
       "</div>"
      ],
      "text/plain": [
       "   ID                                               Text    Gene  \\\n",
       "0   0  Cyclin-dependent kinases (CDKs) regulate a var...  FAM58A   \n",
       "1   1   Abstract Background  Non-small cell lung canc...     CBL   \n",
       "2   2   Abstract Background  Non-small cell lung canc...     CBL   \n",
       "3   3  Recent evidence has demonstrated that acquired...     CBL   \n",
       "4   4  Oncogenic mutations in the monomeric Casitas B...     CBL   \n",
       "\n",
       "              Variation  Class  \n",
       "0  Truncating Mutations      1  \n",
       "1                 W802*      2  \n",
       "2                 Q249E      2  \n",
       "3                 N454D      3  \n",
       "4                 L399V      4  "
      ]
     },
     "execution_count": 6,
     "metadata": {},
     "output_type": "execute_result"
    }
   ],
   "source": [
    "train.head()"
   ]
  },
  {
   "cell_type": "code",
   "execution_count": 7,
   "metadata": {},
   "outputs": [
    {
     "data": {
      "text/plain": [
       "ID           0\n",
       "Text         5\n",
       "Gene         0\n",
       "Variation    0\n",
       "Class        0\n",
       "dtype: int64"
      ]
     },
     "execution_count": 7,
     "metadata": {},
     "output_type": "execute_result"
    }
   ],
   "source": [
    "train.isna().sum()"
   ]
  },
  {
   "cell_type": "code",
   "execution_count": 8,
   "metadata": {},
   "outputs": [],
   "source": [
    "train.set_index(\"ID\")\n",
    "train.dropna(inplace=True)"
   ]
  },
  {
   "cell_type": "code",
   "execution_count": 9,
   "metadata": {},
   "outputs": [
    {
     "data": {
      "text/plain": [
       "(3316, 5)"
      ]
     },
     "execution_count": 9,
     "metadata": {},
     "output_type": "execute_result"
    }
   ],
   "source": [
    "train.shape"
   ]
  },
  {
   "cell_type": "code",
   "execution_count": 10,
   "metadata": {},
   "outputs": [],
   "source": [
    "stop_words = set(stopwords.words(\"english\"))"
   ]
  },
  {
   "cell_type": "code",
   "execution_count": 11,
   "metadata": {},
   "outputs": [],
   "source": [
    "def preprocessamento(text):\n",
    "    global stop_words\n",
    "    text = text.lower()\n",
    "    text = text.translate(str.maketrans(\"\",\"\", string.punctuation))\n",
    "    \n",
    "    return text"
   ]
  },
  {
   "cell_type": "code",
   "execution_count": 12,
   "metadata": {},
   "outputs": [],
   "source": [
    "train[\"Text2\"] = train[\"Text\"].map(preprocessamento)"
   ]
  },
  {
   "cell_type": "code",
   "execution_count": 13,
   "metadata": {},
   "outputs": [],
   "source": [
    "tfidf =TfidfVectorizer(min_df = 1, ngram_range=(1,2), max_features=500)"
   ]
  },
  {
   "cell_type": "code",
   "execution_count": 14,
   "metadata": {},
   "outputs": [],
   "source": [
    "text_train = tfidf.fit_transform(train[\"Text2\"].values).toarray()"
   ]
  },
  {
   "cell_type": "code",
   "execution_count": 15,
   "metadata": {},
   "outputs": [],
   "source": [
    "train2 = pd.DataFrame(text_train, index = train.index)"
   ]
  },
  {
   "cell_type": "code",
   "execution_count": 16,
   "metadata": {
    "scrolled": true
   },
   "outputs": [
    {
     "data": {
      "text/html": [
       "<div>\n",
       "<style scoped>\n",
       "    .dataframe tbody tr th:only-of-type {\n",
       "        vertical-align: middle;\n",
       "    }\n",
       "\n",
       "    .dataframe tbody tr th {\n",
       "        vertical-align: top;\n",
       "    }\n",
       "\n",
       "    .dataframe thead th {\n",
       "        text-align: right;\n",
       "    }\n",
       "</style>\n",
       "<table border=\"1\" class=\"dataframe\">\n",
       "  <thead>\n",
       "    <tr style=\"text-align: right;\">\n",
       "      <th></th>\n",
       "      <th>0</th>\n",
       "      <th>1</th>\n",
       "      <th>2</th>\n",
       "      <th>3</th>\n",
       "      <th>4</th>\n",
       "      <th>5</th>\n",
       "      <th>6</th>\n",
       "      <th>7</th>\n",
       "      <th>8</th>\n",
       "      <th>9</th>\n",
       "      <th>...</th>\n",
       "      <th>61</th>\n",
       "      <th>62</th>\n",
       "      <th>63</th>\n",
       "      <th>64</th>\n",
       "      <th>65</th>\n",
       "      <th>66</th>\n",
       "      <th>67</th>\n",
       "      <th>68</th>\n",
       "      <th>69</th>\n",
       "      <th>ID</th>\n",
       "    </tr>\n",
       "  </thead>\n",
       "  <tbody>\n",
       "    <tr>\n",
       "      <th>0</th>\n",
       "      <td>0.843649</td>\n",
       "      <td>-0.046907</td>\n",
       "      <td>0.001540</td>\n",
       "      <td>0.029399</td>\n",
       "      <td>0.024141</td>\n",
       "      <td>0.052501</td>\n",
       "      <td>-0.064564</td>\n",
       "      <td>-0.038035</td>\n",
       "      <td>-0.002667</td>\n",
       "      <td>-0.079450</td>\n",
       "      <td>...</td>\n",
       "      <td>-0.046292</td>\n",
       "      <td>-0.001439</td>\n",
       "      <td>0.028267</td>\n",
       "      <td>-0.003859</td>\n",
       "      <td>-0.036955</td>\n",
       "      <td>0.027883</td>\n",
       "      <td>-0.003614</td>\n",
       "      <td>-0.018703</td>\n",
       "      <td>-0.006943</td>\n",
       "      <td>0.0</td>\n",
       "    </tr>\n",
       "    <tr>\n",
       "      <th>1</th>\n",
       "      <td>0.923306</td>\n",
       "      <td>-0.109443</td>\n",
       "      <td>-0.080396</td>\n",
       "      <td>-0.084001</td>\n",
       "      <td>0.060329</td>\n",
       "      <td>-0.040353</td>\n",
       "      <td>0.081776</td>\n",
       "      <td>0.005878</td>\n",
       "      <td>-0.000696</td>\n",
       "      <td>-0.065425</td>\n",
       "      <td>...</td>\n",
       "      <td>0.028270</td>\n",
       "      <td>-0.004321</td>\n",
       "      <td>-0.022104</td>\n",
       "      <td>-0.016710</td>\n",
       "      <td>-0.026000</td>\n",
       "      <td>0.030286</td>\n",
       "      <td>-0.018505</td>\n",
       "      <td>0.013953</td>\n",
       "      <td>-0.014941</td>\n",
       "      <td>1.0</td>\n",
       "    </tr>\n",
       "    <tr>\n",
       "      <th>2</th>\n",
       "      <td>0.923306</td>\n",
       "      <td>-0.109443</td>\n",
       "      <td>-0.080396</td>\n",
       "      <td>-0.084001</td>\n",
       "      <td>0.060329</td>\n",
       "      <td>-0.040353</td>\n",
       "      <td>0.081776</td>\n",
       "      <td>0.005878</td>\n",
       "      <td>-0.000696</td>\n",
       "      <td>-0.065425</td>\n",
       "      <td>...</td>\n",
       "      <td>0.028270</td>\n",
       "      <td>-0.004321</td>\n",
       "      <td>-0.022104</td>\n",
       "      <td>-0.016710</td>\n",
       "      <td>-0.026000</td>\n",
       "      <td>0.030286</td>\n",
       "      <td>-0.018505</td>\n",
       "      <td>0.013953</td>\n",
       "      <td>-0.014941</td>\n",
       "      <td>2.0</td>\n",
       "    </tr>\n",
       "    <tr>\n",
       "      <th>3</th>\n",
       "      <td>0.926012</td>\n",
       "      <td>-0.082498</td>\n",
       "      <td>-0.072305</td>\n",
       "      <td>-0.060691</td>\n",
       "      <td>-0.004379</td>\n",
       "      <td>0.041465</td>\n",
       "      <td>-0.054900</td>\n",
       "      <td>0.013517</td>\n",
       "      <td>-0.023545</td>\n",
       "      <td>-0.013946</td>\n",
       "      <td>...</td>\n",
       "      <td>-0.012383</td>\n",
       "      <td>-0.072557</td>\n",
       "      <td>0.010622</td>\n",
       "      <td>-0.044503</td>\n",
       "      <td>-0.020163</td>\n",
       "      <td>-0.015679</td>\n",
       "      <td>-0.044632</td>\n",
       "      <td>-0.010895</td>\n",
       "      <td>-0.013575</td>\n",
       "      <td>3.0</td>\n",
       "    </tr>\n",
       "    <tr>\n",
       "      <th>4</th>\n",
       "      <td>0.934875</td>\n",
       "      <td>-0.023590</td>\n",
       "      <td>0.018452</td>\n",
       "      <td>-0.069885</td>\n",
       "      <td>0.075806</td>\n",
       "      <td>-0.059340</td>\n",
       "      <td>0.021786</td>\n",
       "      <td>-0.022120</td>\n",
       "      <td>0.006394</td>\n",
       "      <td>-0.039436</td>\n",
       "      <td>...</td>\n",
       "      <td>-0.030594</td>\n",
       "      <td>0.001232</td>\n",
       "      <td>0.034414</td>\n",
       "      <td>0.025017</td>\n",
       "      <td>0.025670</td>\n",
       "      <td>0.013742</td>\n",
       "      <td>-0.032502</td>\n",
       "      <td>-0.029031</td>\n",
       "      <td>-0.017881</td>\n",
       "      <td>4.0</td>\n",
       "    </tr>\n",
       "  </tbody>\n",
       "</table>\n",
       "<p>5 rows × 71 columns</p>\n",
       "</div>"
      ],
      "text/plain": [
       "          0         1         2         3         4         5         6  \\\n",
       "0  0.843649 -0.046907  0.001540  0.029399  0.024141  0.052501 -0.064564   \n",
       "1  0.923306 -0.109443 -0.080396 -0.084001  0.060329 -0.040353  0.081776   \n",
       "2  0.923306 -0.109443 -0.080396 -0.084001  0.060329 -0.040353  0.081776   \n",
       "3  0.926012 -0.082498 -0.072305 -0.060691 -0.004379  0.041465 -0.054900   \n",
       "4  0.934875 -0.023590  0.018452 -0.069885  0.075806 -0.059340  0.021786   \n",
       "\n",
       "          7         8         9  ...        61        62        63        64  \\\n",
       "0 -0.038035 -0.002667 -0.079450  ... -0.046292 -0.001439  0.028267 -0.003859   \n",
       "1  0.005878 -0.000696 -0.065425  ...  0.028270 -0.004321 -0.022104 -0.016710   \n",
       "2  0.005878 -0.000696 -0.065425  ...  0.028270 -0.004321 -0.022104 -0.016710   \n",
       "3  0.013517 -0.023545 -0.013946  ... -0.012383 -0.072557  0.010622 -0.044503   \n",
       "4 -0.022120  0.006394 -0.039436  ... -0.030594  0.001232  0.034414  0.025017   \n",
       "\n",
       "         65        66        67        68        69   ID  \n",
       "0 -0.036955  0.027883 -0.003614 -0.018703 -0.006943  0.0  \n",
       "1 -0.026000  0.030286 -0.018505  0.013953 -0.014941  1.0  \n",
       "2 -0.026000  0.030286 -0.018505  0.013953 -0.014941  2.0  \n",
       "3 -0.020163 -0.015679 -0.044632 -0.010895 -0.013575  3.0  \n",
       "4  0.025670  0.013742 -0.032502 -0.029031 -0.017881  4.0  \n",
       "\n",
       "[5 rows x 71 columns]"
      ]
     },
     "execution_count": 16,
     "metadata": {},
     "output_type": "execute_result"
    }
   ],
   "source": [
    "svd_truncated = TruncatedSVD(n_components=70)\n",
    "truncated_train = pd.DataFrame(svd_truncated.fit_transform(train2))\n",
    "truncated_train[\"ID\"] = train[\"ID\"]\n",
    "truncated_train.set_index(\"ID\")\n",
    "truncated_train.head()"
   ]
  },
  {
   "cell_type": "code",
   "execution_count": 17,
   "metadata": {
    "scrolled": false
   },
   "outputs": [
    {
     "data": {
      "text/html": [
       "<div>\n",
       "<style scoped>\n",
       "    .dataframe tbody tr th:only-of-type {\n",
       "        vertical-align: middle;\n",
       "    }\n",
       "\n",
       "    .dataframe tbody tr th {\n",
       "        vertical-align: top;\n",
       "    }\n",
       "\n",
       "    .dataframe thead th {\n",
       "        text-align: right;\n",
       "    }\n",
       "</style>\n",
       "<table border=\"1\" class=\"dataframe\">\n",
       "  <thead>\n",
       "    <tr style=\"text-align: right;\">\n",
       "      <th></th>\n",
       "      <th>ID</th>\n",
       "      <th>Gene_ACVR1</th>\n",
       "      <th>Gene_AGO2</th>\n",
       "      <th>Gene_AKT1</th>\n",
       "      <th>Gene_AKT2</th>\n",
       "      <th>Gene_AKT3</th>\n",
       "      <th>Gene_ALK</th>\n",
       "      <th>Gene_APC</th>\n",
       "      <th>Gene_AR</th>\n",
       "      <th>Gene_ARAF</th>\n",
       "      <th>...</th>\n",
       "      <th>Variation_Y87N</th>\n",
       "      <th>Variation_Y901C</th>\n",
       "      <th>Variation_Y931C</th>\n",
       "      <th>Variation_Y98H</th>\n",
       "      <th>Variation_Y98N</th>\n",
       "      <th>Variation_YAP1-FAM118B Fusion</th>\n",
       "      <th>Variation_YAP1-MAMLD1 Fusion</th>\n",
       "      <th>Variation_ZC3H7B-BCOR Fusion</th>\n",
       "      <th>Variation_ZNF198-FGFR1 Fusion</th>\n",
       "      <th>Variation_p61BRAF</th>\n",
       "    </tr>\n",
       "  </thead>\n",
       "  <tbody>\n",
       "    <tr>\n",
       "      <th>0</th>\n",
       "      <td>0</td>\n",
       "      <td>0</td>\n",
       "      <td>0</td>\n",
       "      <td>0</td>\n",
       "      <td>0</td>\n",
       "      <td>0</td>\n",
       "      <td>0</td>\n",
       "      <td>0</td>\n",
       "      <td>0</td>\n",
       "      <td>0</td>\n",
       "      <td>...</td>\n",
       "      <td>0</td>\n",
       "      <td>0</td>\n",
       "      <td>0</td>\n",
       "      <td>0</td>\n",
       "      <td>0</td>\n",
       "      <td>0</td>\n",
       "      <td>0</td>\n",
       "      <td>0</td>\n",
       "      <td>0</td>\n",
       "      <td>0</td>\n",
       "    </tr>\n",
       "    <tr>\n",
       "      <th>1</th>\n",
       "      <td>1</td>\n",
       "      <td>0</td>\n",
       "      <td>0</td>\n",
       "      <td>0</td>\n",
       "      <td>0</td>\n",
       "      <td>0</td>\n",
       "      <td>0</td>\n",
       "      <td>0</td>\n",
       "      <td>0</td>\n",
       "      <td>0</td>\n",
       "      <td>...</td>\n",
       "      <td>0</td>\n",
       "      <td>0</td>\n",
       "      <td>0</td>\n",
       "      <td>0</td>\n",
       "      <td>0</td>\n",
       "      <td>0</td>\n",
       "      <td>0</td>\n",
       "      <td>0</td>\n",
       "      <td>0</td>\n",
       "      <td>0</td>\n",
       "    </tr>\n",
       "    <tr>\n",
       "      <th>2</th>\n",
       "      <td>2</td>\n",
       "      <td>0</td>\n",
       "      <td>0</td>\n",
       "      <td>0</td>\n",
       "      <td>0</td>\n",
       "      <td>0</td>\n",
       "      <td>0</td>\n",
       "      <td>0</td>\n",
       "      <td>0</td>\n",
       "      <td>0</td>\n",
       "      <td>...</td>\n",
       "      <td>0</td>\n",
       "      <td>0</td>\n",
       "      <td>0</td>\n",
       "      <td>0</td>\n",
       "      <td>0</td>\n",
       "      <td>0</td>\n",
       "      <td>0</td>\n",
       "      <td>0</td>\n",
       "      <td>0</td>\n",
       "      <td>0</td>\n",
       "    </tr>\n",
       "    <tr>\n",
       "      <th>3</th>\n",
       "      <td>3</td>\n",
       "      <td>0</td>\n",
       "      <td>0</td>\n",
       "      <td>0</td>\n",
       "      <td>0</td>\n",
       "      <td>0</td>\n",
       "      <td>0</td>\n",
       "      <td>0</td>\n",
       "      <td>0</td>\n",
       "      <td>0</td>\n",
       "      <td>...</td>\n",
       "      <td>0</td>\n",
       "      <td>0</td>\n",
       "      <td>0</td>\n",
       "      <td>0</td>\n",
       "      <td>0</td>\n",
       "      <td>0</td>\n",
       "      <td>0</td>\n",
       "      <td>0</td>\n",
       "      <td>0</td>\n",
       "      <td>0</td>\n",
       "    </tr>\n",
       "    <tr>\n",
       "      <th>4</th>\n",
       "      <td>4</td>\n",
       "      <td>0</td>\n",
       "      <td>0</td>\n",
       "      <td>0</td>\n",
       "      <td>0</td>\n",
       "      <td>0</td>\n",
       "      <td>0</td>\n",
       "      <td>0</td>\n",
       "      <td>0</td>\n",
       "      <td>0</td>\n",
       "      <td>...</td>\n",
       "      <td>0</td>\n",
       "      <td>0</td>\n",
       "      <td>0</td>\n",
       "      <td>0</td>\n",
       "      <td>0</td>\n",
       "      <td>0</td>\n",
       "      <td>0</td>\n",
       "      <td>0</td>\n",
       "      <td>0</td>\n",
       "      <td>0</td>\n",
       "    </tr>\n",
       "  </tbody>\n",
       "</table>\n",
       "<p>5 rows × 3254 columns</p>\n",
       "</div>"
      ],
      "text/plain": [
       "   ID  Gene_ACVR1  Gene_AGO2  Gene_AKT1  Gene_AKT2  Gene_AKT3  Gene_ALK  \\\n",
       "0   0           0          0          0          0          0         0   \n",
       "1   1           0          0          0          0          0         0   \n",
       "2   2           0          0          0          0          0         0   \n",
       "3   3           0          0          0          0          0         0   \n",
       "4   4           0          0          0          0          0         0   \n",
       "\n",
       "   Gene_APC  Gene_AR  Gene_ARAF  ...  Variation_Y87N  Variation_Y901C  \\\n",
       "0         0        0          0  ...               0                0   \n",
       "1         0        0          0  ...               0                0   \n",
       "2         0        0          0  ...               0                0   \n",
       "3         0        0          0  ...               0                0   \n",
       "4         0        0          0  ...               0                0   \n",
       "\n",
       "   Variation_Y931C  Variation_Y98H  Variation_Y98N  \\\n",
       "0                0               0               0   \n",
       "1                0               0               0   \n",
       "2                0               0               0   \n",
       "3                0               0               0   \n",
       "4                0               0               0   \n",
       "\n",
       "   Variation_YAP1-FAM118B Fusion  Variation_YAP1-MAMLD1 Fusion  \\\n",
       "0                              0                             0   \n",
       "1                              0                             0   \n",
       "2                              0                             0   \n",
       "3                              0                             0   \n",
       "4                              0                             0   \n",
       "\n",
       "   Variation_ZC3H7B-BCOR Fusion  Variation_ZNF198-FGFR1 Fusion  \\\n",
       "0                             0                              0   \n",
       "1                             0                              0   \n",
       "2                             0                              0   \n",
       "3                             0                              0   \n",
       "4                             0                              0   \n",
       "\n",
       "   Variation_p61BRAF  \n",
       "0                  0  \n",
       "1                  0  \n",
       "2                  0  \n",
       "3                  0  \n",
       "4                  0  \n",
       "\n",
       "[5 rows x 3254 columns]"
      ]
     },
     "execution_count": 17,
     "metadata": {},
     "output_type": "execute_result"
    }
   ],
   "source": [
    "one_hot_enc_gene_var = pd.get_dummies(train,columns = [\"Gene\",\"Variation\"],drop_first=True)\n",
    "one_hot_enc_gene_var.drop([\"Text\",\"Text2\",\"Class\"], axis = 1, inplace = True)\n",
    "one_hot_enc_gene_var.head()"
   ]
  },
  {
   "cell_type": "code",
   "execution_count": 18,
   "metadata": {
    "scrolled": true
   },
   "outputs": [],
   "source": [
    "one_hot_enc_gene_var = one_hot_enc_gene_var.set_index(\"ID\")\n",
    "train = train.set_index(\"ID\")"
   ]
  },
  {
   "cell_type": "code",
   "execution_count": 19,
   "metadata": {},
   "outputs": [
    {
     "data": {
      "text/html": [
       "<div>\n",
       "<style scoped>\n",
       "    .dataframe tbody tr th:only-of-type {\n",
       "        vertical-align: middle;\n",
       "    }\n",
       "\n",
       "    .dataframe tbody tr th {\n",
       "        vertical-align: top;\n",
       "    }\n",
       "\n",
       "    .dataframe thead th {\n",
       "        text-align: right;\n",
       "    }\n",
       "</style>\n",
       "<table border=\"1\" class=\"dataframe\">\n",
       "  <thead>\n",
       "    <tr style=\"text-align: right;\">\n",
       "      <th></th>\n",
       "      <th>Gene_ACVR1</th>\n",
       "      <th>Gene_AGO2</th>\n",
       "      <th>Gene_AKT1</th>\n",
       "      <th>Gene_AKT2</th>\n",
       "      <th>Gene_AKT3</th>\n",
       "      <th>Gene_ALK</th>\n",
       "      <th>Gene_APC</th>\n",
       "      <th>Gene_AR</th>\n",
       "      <th>Gene_ARAF</th>\n",
       "      <th>Gene_ARID1A</th>\n",
       "      <th>...</th>\n",
       "      <th>Variation_Y87N</th>\n",
       "      <th>Variation_Y901C</th>\n",
       "      <th>Variation_Y931C</th>\n",
       "      <th>Variation_Y98H</th>\n",
       "      <th>Variation_Y98N</th>\n",
       "      <th>Variation_YAP1-FAM118B Fusion</th>\n",
       "      <th>Variation_YAP1-MAMLD1 Fusion</th>\n",
       "      <th>Variation_ZC3H7B-BCOR Fusion</th>\n",
       "      <th>Variation_ZNF198-FGFR1 Fusion</th>\n",
       "      <th>Variation_p61BRAF</th>\n",
       "    </tr>\n",
       "    <tr>\n",
       "      <th>ID</th>\n",
       "      <th></th>\n",
       "      <th></th>\n",
       "      <th></th>\n",
       "      <th></th>\n",
       "      <th></th>\n",
       "      <th></th>\n",
       "      <th></th>\n",
       "      <th></th>\n",
       "      <th></th>\n",
       "      <th></th>\n",
       "      <th></th>\n",
       "      <th></th>\n",
       "      <th></th>\n",
       "      <th></th>\n",
       "      <th></th>\n",
       "      <th></th>\n",
       "      <th></th>\n",
       "      <th></th>\n",
       "      <th></th>\n",
       "      <th></th>\n",
       "      <th></th>\n",
       "    </tr>\n",
       "  </thead>\n",
       "  <tbody>\n",
       "    <tr>\n",
       "      <th>0</th>\n",
       "      <td>0</td>\n",
       "      <td>0</td>\n",
       "      <td>0</td>\n",
       "      <td>0</td>\n",
       "      <td>0</td>\n",
       "      <td>0</td>\n",
       "      <td>0</td>\n",
       "      <td>0</td>\n",
       "      <td>0</td>\n",
       "      <td>0</td>\n",
       "      <td>...</td>\n",
       "      <td>0</td>\n",
       "      <td>0</td>\n",
       "      <td>0</td>\n",
       "      <td>0</td>\n",
       "      <td>0</td>\n",
       "      <td>0</td>\n",
       "      <td>0</td>\n",
       "      <td>0</td>\n",
       "      <td>0</td>\n",
       "      <td>0</td>\n",
       "    </tr>\n",
       "    <tr>\n",
       "      <th>1</th>\n",
       "      <td>0</td>\n",
       "      <td>0</td>\n",
       "      <td>0</td>\n",
       "      <td>0</td>\n",
       "      <td>0</td>\n",
       "      <td>0</td>\n",
       "      <td>0</td>\n",
       "      <td>0</td>\n",
       "      <td>0</td>\n",
       "      <td>0</td>\n",
       "      <td>...</td>\n",
       "      <td>0</td>\n",
       "      <td>0</td>\n",
       "      <td>0</td>\n",
       "      <td>0</td>\n",
       "      <td>0</td>\n",
       "      <td>0</td>\n",
       "      <td>0</td>\n",
       "      <td>0</td>\n",
       "      <td>0</td>\n",
       "      <td>0</td>\n",
       "    </tr>\n",
       "    <tr>\n",
       "      <th>2</th>\n",
       "      <td>0</td>\n",
       "      <td>0</td>\n",
       "      <td>0</td>\n",
       "      <td>0</td>\n",
       "      <td>0</td>\n",
       "      <td>0</td>\n",
       "      <td>0</td>\n",
       "      <td>0</td>\n",
       "      <td>0</td>\n",
       "      <td>0</td>\n",
       "      <td>...</td>\n",
       "      <td>0</td>\n",
       "      <td>0</td>\n",
       "      <td>0</td>\n",
       "      <td>0</td>\n",
       "      <td>0</td>\n",
       "      <td>0</td>\n",
       "      <td>0</td>\n",
       "      <td>0</td>\n",
       "      <td>0</td>\n",
       "      <td>0</td>\n",
       "    </tr>\n",
       "    <tr>\n",
       "      <th>3</th>\n",
       "      <td>0</td>\n",
       "      <td>0</td>\n",
       "      <td>0</td>\n",
       "      <td>0</td>\n",
       "      <td>0</td>\n",
       "      <td>0</td>\n",
       "      <td>0</td>\n",
       "      <td>0</td>\n",
       "      <td>0</td>\n",
       "      <td>0</td>\n",
       "      <td>...</td>\n",
       "      <td>0</td>\n",
       "      <td>0</td>\n",
       "      <td>0</td>\n",
       "      <td>0</td>\n",
       "      <td>0</td>\n",
       "      <td>0</td>\n",
       "      <td>0</td>\n",
       "      <td>0</td>\n",
       "      <td>0</td>\n",
       "      <td>0</td>\n",
       "    </tr>\n",
       "    <tr>\n",
       "      <th>4</th>\n",
       "      <td>0</td>\n",
       "      <td>0</td>\n",
       "      <td>0</td>\n",
       "      <td>0</td>\n",
       "      <td>0</td>\n",
       "      <td>0</td>\n",
       "      <td>0</td>\n",
       "      <td>0</td>\n",
       "      <td>0</td>\n",
       "      <td>0</td>\n",
       "      <td>...</td>\n",
       "      <td>0</td>\n",
       "      <td>0</td>\n",
       "      <td>0</td>\n",
       "      <td>0</td>\n",
       "      <td>0</td>\n",
       "      <td>0</td>\n",
       "      <td>0</td>\n",
       "      <td>0</td>\n",
       "      <td>0</td>\n",
       "      <td>0</td>\n",
       "    </tr>\n",
       "  </tbody>\n",
       "</table>\n",
       "<p>5 rows × 3253 columns</p>\n",
       "</div>"
      ],
      "text/plain": [
       "    Gene_ACVR1  Gene_AGO2  Gene_AKT1  Gene_AKT2  Gene_AKT3  Gene_ALK  \\\n",
       "ID                                                                     \n",
       "0            0          0          0          0          0         0   \n",
       "1            0          0          0          0          0         0   \n",
       "2            0          0          0          0          0         0   \n",
       "3            0          0          0          0          0         0   \n",
       "4            0          0          0          0          0         0   \n",
       "\n",
       "    Gene_APC  Gene_AR  Gene_ARAF  Gene_ARID1A  ...  Variation_Y87N  \\\n",
       "ID                                             ...                   \n",
       "0          0        0          0            0  ...               0   \n",
       "1          0        0          0            0  ...               0   \n",
       "2          0        0          0            0  ...               0   \n",
       "3          0        0          0            0  ...               0   \n",
       "4          0        0          0            0  ...               0   \n",
       "\n",
       "    Variation_Y901C  Variation_Y931C  Variation_Y98H  Variation_Y98N  \\\n",
       "ID                                                                     \n",
       "0                 0                0               0               0   \n",
       "1                 0                0               0               0   \n",
       "2                 0                0               0               0   \n",
       "3                 0                0               0               0   \n",
       "4                 0                0               0               0   \n",
       "\n",
       "    Variation_YAP1-FAM118B Fusion  Variation_YAP1-MAMLD1 Fusion  \\\n",
       "ID                                                                \n",
       "0                               0                             0   \n",
       "1                               0                             0   \n",
       "2                               0                             0   \n",
       "3                               0                             0   \n",
       "4                               0                             0   \n",
       "\n",
       "    Variation_ZC3H7B-BCOR Fusion  Variation_ZNF198-FGFR1 Fusion  \\\n",
       "ID                                                                \n",
       "0                              0                              0   \n",
       "1                              0                              0   \n",
       "2                              0                              0   \n",
       "3                              0                              0   \n",
       "4                              0                              0   \n",
       "\n",
       "    Variation_p61BRAF  \n",
       "ID                     \n",
       "0                   0  \n",
       "1                   0  \n",
       "2                   0  \n",
       "3                   0  \n",
       "4                   0  \n",
       "\n",
       "[5 rows x 3253 columns]"
      ]
     },
     "execution_count": 19,
     "metadata": {},
     "output_type": "execute_result"
    }
   ],
   "source": [
    "one_hot_enc_gene_var.head()"
   ]
  },
  {
   "cell_type": "code",
   "execution_count": 20,
   "metadata": {
    "scrolled": false
   },
   "outputs": [
    {
     "data": {
      "text/html": [
       "<div>\n",
       "<style scoped>\n",
       "    .dataframe tbody tr th:only-of-type {\n",
       "        vertical-align: middle;\n",
       "    }\n",
       "\n",
       "    .dataframe tbody tr th {\n",
       "        vertical-align: top;\n",
       "    }\n",
       "\n",
       "    .dataframe thead th {\n",
       "        text-align: right;\n",
       "    }\n",
       "</style>\n",
       "<table border=\"1\" class=\"dataframe\">\n",
       "  <thead>\n",
       "    <tr style=\"text-align: right;\">\n",
       "      <th></th>\n",
       "      <th>Class</th>\n",
       "      <th>Text2</th>\n",
       "    </tr>\n",
       "    <tr>\n",
       "      <th>ID</th>\n",
       "      <th></th>\n",
       "      <th></th>\n",
       "    </tr>\n",
       "  </thead>\n",
       "  <tbody>\n",
       "    <tr>\n",
       "      <th>0</th>\n",
       "      <td>1</td>\n",
       "      <td>cyclindependent kinases cdks regulate a variet...</td>\n",
       "    </tr>\n",
       "    <tr>\n",
       "      <th>1</th>\n",
       "      <td>2</td>\n",
       "      <td>abstract background  nonsmall cell lung cance...</td>\n",
       "    </tr>\n",
       "    <tr>\n",
       "      <th>2</th>\n",
       "      <td>2</td>\n",
       "      <td>abstract background  nonsmall cell lung cance...</td>\n",
       "    </tr>\n",
       "    <tr>\n",
       "      <th>3</th>\n",
       "      <td>3</td>\n",
       "      <td>recent evidence has demonstrated that acquired...</td>\n",
       "    </tr>\n",
       "    <tr>\n",
       "      <th>4</th>\n",
       "      <td>4</td>\n",
       "      <td>oncogenic mutations in the monomeric casitas b...</td>\n",
       "    </tr>\n",
       "  </tbody>\n",
       "</table>\n",
       "</div>"
      ],
      "text/plain": [
       "    Class                                              Text2\n",
       "ID                                                          \n",
       "0       1  cyclindependent kinases cdks regulate a variet...\n",
       "1       2   abstract background  nonsmall cell lung cance...\n",
       "2       2   abstract background  nonsmall cell lung cance...\n",
       "3       3  recent evidence has demonstrated that acquired...\n",
       "4       4  oncogenic mutations in the monomeric casitas b..."
      ]
     },
     "execution_count": 20,
     "metadata": {},
     "output_type": "execute_result"
    }
   ],
   "source": [
    "train.drop([\"Text\",\"Gene\",\"Variation\"],axis =1, inplace = True)\n",
    "train.head()"
   ]
  },
  {
   "cell_type": "code",
   "execution_count": 21,
   "metadata": {
    "scrolled": false
   },
   "outputs": [
    {
     "data": {
      "text/html": [
       "<div>\n",
       "<style scoped>\n",
       "    .dataframe tbody tr th:only-of-type {\n",
       "        vertical-align: middle;\n",
       "    }\n",
       "\n",
       "    .dataframe tbody tr th {\n",
       "        vertical-align: top;\n",
       "    }\n",
       "\n",
       "    .dataframe thead th {\n",
       "        text-align: right;\n",
       "    }\n",
       "</style>\n",
       "<table border=\"1\" class=\"dataframe\">\n",
       "  <thead>\n",
       "    <tr style=\"text-align: right;\">\n",
       "      <th></th>\n",
       "      <th>0</th>\n",
       "      <th>1</th>\n",
       "      <th>2</th>\n",
       "      <th>3</th>\n",
       "      <th>4</th>\n",
       "      <th>5</th>\n",
       "      <th>6</th>\n",
       "      <th>7</th>\n",
       "      <th>8</th>\n",
       "      <th>9</th>\n",
       "      <th>...</th>\n",
       "      <th>Variation_Y901C</th>\n",
       "      <th>Variation_Y931C</th>\n",
       "      <th>Variation_Y98H</th>\n",
       "      <th>Variation_Y98N</th>\n",
       "      <th>Variation_YAP1-FAM118B Fusion</th>\n",
       "      <th>Variation_YAP1-MAMLD1 Fusion</th>\n",
       "      <th>Variation_ZC3H7B-BCOR Fusion</th>\n",
       "      <th>Variation_ZNF198-FGFR1 Fusion</th>\n",
       "      <th>Variation_p61BRAF</th>\n",
       "      <th>Class</th>\n",
       "    </tr>\n",
       "  </thead>\n",
       "  <tbody>\n",
       "    <tr>\n",
       "      <th>0</th>\n",
       "      <td>0.843649</td>\n",
       "      <td>-0.046907</td>\n",
       "      <td>0.001540</td>\n",
       "      <td>0.029399</td>\n",
       "      <td>0.024141</td>\n",
       "      <td>0.052501</td>\n",
       "      <td>-0.064564</td>\n",
       "      <td>-0.038035</td>\n",
       "      <td>-0.002667</td>\n",
       "      <td>-0.079450</td>\n",
       "      <td>...</td>\n",
       "      <td>0</td>\n",
       "      <td>0</td>\n",
       "      <td>0</td>\n",
       "      <td>0</td>\n",
       "      <td>0</td>\n",
       "      <td>0</td>\n",
       "      <td>0</td>\n",
       "      <td>0</td>\n",
       "      <td>0</td>\n",
       "      <td>1.0</td>\n",
       "    </tr>\n",
       "    <tr>\n",
       "      <th>1</th>\n",
       "      <td>0.923306</td>\n",
       "      <td>-0.109443</td>\n",
       "      <td>-0.080396</td>\n",
       "      <td>-0.084001</td>\n",
       "      <td>0.060329</td>\n",
       "      <td>-0.040353</td>\n",
       "      <td>0.081776</td>\n",
       "      <td>0.005878</td>\n",
       "      <td>-0.000696</td>\n",
       "      <td>-0.065425</td>\n",
       "      <td>...</td>\n",
       "      <td>0</td>\n",
       "      <td>0</td>\n",
       "      <td>0</td>\n",
       "      <td>0</td>\n",
       "      <td>0</td>\n",
       "      <td>0</td>\n",
       "      <td>0</td>\n",
       "      <td>0</td>\n",
       "      <td>0</td>\n",
       "      <td>2.0</td>\n",
       "    </tr>\n",
       "    <tr>\n",
       "      <th>2</th>\n",
       "      <td>0.923306</td>\n",
       "      <td>-0.109443</td>\n",
       "      <td>-0.080396</td>\n",
       "      <td>-0.084001</td>\n",
       "      <td>0.060329</td>\n",
       "      <td>-0.040353</td>\n",
       "      <td>0.081776</td>\n",
       "      <td>0.005878</td>\n",
       "      <td>-0.000696</td>\n",
       "      <td>-0.065425</td>\n",
       "      <td>...</td>\n",
       "      <td>0</td>\n",
       "      <td>0</td>\n",
       "      <td>0</td>\n",
       "      <td>0</td>\n",
       "      <td>0</td>\n",
       "      <td>0</td>\n",
       "      <td>0</td>\n",
       "      <td>0</td>\n",
       "      <td>0</td>\n",
       "      <td>2.0</td>\n",
       "    </tr>\n",
       "    <tr>\n",
       "      <th>3</th>\n",
       "      <td>0.926012</td>\n",
       "      <td>-0.082498</td>\n",
       "      <td>-0.072305</td>\n",
       "      <td>-0.060691</td>\n",
       "      <td>-0.004379</td>\n",
       "      <td>0.041465</td>\n",
       "      <td>-0.054900</td>\n",
       "      <td>0.013517</td>\n",
       "      <td>-0.023545</td>\n",
       "      <td>-0.013946</td>\n",
       "      <td>...</td>\n",
       "      <td>0</td>\n",
       "      <td>0</td>\n",
       "      <td>0</td>\n",
       "      <td>0</td>\n",
       "      <td>0</td>\n",
       "      <td>0</td>\n",
       "      <td>0</td>\n",
       "      <td>0</td>\n",
       "      <td>0</td>\n",
       "      <td>3.0</td>\n",
       "    </tr>\n",
       "    <tr>\n",
       "      <th>4</th>\n",
       "      <td>0.934875</td>\n",
       "      <td>-0.023590</td>\n",
       "      <td>0.018452</td>\n",
       "      <td>-0.069885</td>\n",
       "      <td>0.075806</td>\n",
       "      <td>-0.059340</td>\n",
       "      <td>0.021786</td>\n",
       "      <td>-0.022120</td>\n",
       "      <td>0.006394</td>\n",
       "      <td>-0.039436</td>\n",
       "      <td>...</td>\n",
       "      <td>0</td>\n",
       "      <td>0</td>\n",
       "      <td>0</td>\n",
       "      <td>0</td>\n",
       "      <td>0</td>\n",
       "      <td>0</td>\n",
       "      <td>0</td>\n",
       "      <td>0</td>\n",
       "      <td>0</td>\n",
       "      <td>4.0</td>\n",
       "    </tr>\n",
       "  </tbody>\n",
       "</table>\n",
       "<p>5 rows × 3325 columns</p>\n",
       "</div>"
      ],
      "text/plain": [
       "          0         1         2         3         4         5         6  \\\n",
       "0  0.843649 -0.046907  0.001540  0.029399  0.024141  0.052501 -0.064564   \n",
       "1  0.923306 -0.109443 -0.080396 -0.084001  0.060329 -0.040353  0.081776   \n",
       "2  0.923306 -0.109443 -0.080396 -0.084001  0.060329 -0.040353  0.081776   \n",
       "3  0.926012 -0.082498 -0.072305 -0.060691 -0.004379  0.041465 -0.054900   \n",
       "4  0.934875 -0.023590  0.018452 -0.069885  0.075806 -0.059340  0.021786   \n",
       "\n",
       "          7         8         9  ...  Variation_Y901C  Variation_Y931C  \\\n",
       "0 -0.038035 -0.002667 -0.079450  ...                0                0   \n",
       "1  0.005878 -0.000696 -0.065425  ...                0                0   \n",
       "2  0.005878 -0.000696 -0.065425  ...                0                0   \n",
       "3  0.013517 -0.023545 -0.013946  ...                0                0   \n",
       "4 -0.022120  0.006394 -0.039436  ...                0                0   \n",
       "\n",
       "   Variation_Y98H  Variation_Y98N  Variation_YAP1-FAM118B Fusion  \\\n",
       "0               0               0                              0   \n",
       "1               0               0                              0   \n",
       "2               0               0                              0   \n",
       "3               0               0                              0   \n",
       "4               0               0                              0   \n",
       "\n",
       "   Variation_YAP1-MAMLD1 Fusion  Variation_ZC3H7B-BCOR Fusion  \\\n",
       "0                             0                             0   \n",
       "1                             0                             0   \n",
       "2                             0                             0   \n",
       "3                             0                             0   \n",
       "4                             0                             0   \n",
       "\n",
       "   Variation_ZNF198-FGFR1 Fusion  Variation_p61BRAF  Class  \n",
       "0                              0                  0    1.0  \n",
       "1                              0                  0    2.0  \n",
       "2                              0                  0    2.0  \n",
       "3                              0                  0    3.0  \n",
       "4                              0                  0    4.0  \n",
       "\n",
       "[5 rows x 3325 columns]"
      ]
     },
     "execution_count": 21,
     "metadata": {},
     "output_type": "execute_result"
    }
   ],
   "source": [
    "#train = pd.merge(dfTrain,dfTrainVariant, how = \"inner\", on = \"ID\")\n",
    "train2 = pd.merge(truncated_train,one_hot_enc_gene_var, how = 'inner', on = \"ID\")\n",
    "train2[\"Class\"] = train[\"Class\"]\n",
    "train2.dropna(inplace = True)\n",
    "train2.head()"
   ]
  },
  {
   "cell_type": "code",
   "execution_count": 22,
   "metadata": {},
   "outputs": [],
   "source": [
    "X = train2.drop(\"Class\", axis=1)\n",
    "y = train2.Class\n",
    "\n",
    "X_train, X_test, y_train, y_test  = train_test_split(X,y, test_size=0.20,shuffle=True)"
   ]
  },
  {
   "cell_type": "code",
   "execution_count": 23,
   "metadata": {
    "scrolled": false
   },
   "outputs": [
    {
     "name": "stdout",
     "output_type": "stream",
     "text": [
      "[16:24:04] WARNING: C:/Users/Administrator/workspace/xgboost-win64_release_1.5.0/src/learner.cc:1115: Starting in XGBoost 1.3.0, the default evaluation metric used with the objective 'multi:softprob' was changed from 'merror' to 'mlogloss'. Explicitly set eval_metric if you'd like to restore the old behavior.\n"
     ]
    },
    {
     "data": {
      "text/plain": [
       "XGBClassifier(base_score=0.5, booster='gbtree', colsample_bylevel=1,\n",
       "              colsample_bynode=1, colsample_bytree=1, enable_categorical=False,\n",
       "              gamma=0, gpu_id=-1, importance_type=None,\n",
       "              interaction_constraints='', learning_rate=0.300000012,\n",
       "              max_delta_step=0, max_depth=6, min_child_weight=1, missing=nan,\n",
       "              monotone_constraints='()', n_estimators=100, n_jobs=8,\n",
       "              num_parallel_tree=1, objective='multi:softprob', predictor='auto',\n",
       "              random_state=0, reg_alpha=0, reg_lambda=1, scale_pos_weight=None,\n",
       "              subsample=1, tree_method='exact', validate_parameters=1,\n",
       "              verbosity=None)"
      ]
     },
     "execution_count": 23,
     "metadata": {},
     "output_type": "execute_result"
    }
   ],
   "source": [
    "modelXGB = xgboost.XGBClassifier()\n",
    "modelXGB.fit(X_train,y_train)"
   ]
  },
  {
   "cell_type": "code",
   "execution_count": 24,
   "metadata": {},
   "outputs": [
    {
     "data": {
      "text/plain": [
       "0.5226586102719033"
      ]
     },
     "execution_count": 24,
     "metadata": {},
     "output_type": "execute_result"
    }
   ],
   "source": [
    "predXGBTest = modelXGB.predict(X_test)\n",
    "metrics.accuracy_score(y_test,predXGBTest)"
   ]
  },
  {
   "cell_type": "code",
   "execution_count": 25,
   "metadata": {},
   "outputs": [
    {
     "data": {
      "text/plain": [
       "0.966338880484115"
      ]
     },
     "execution_count": 25,
     "metadata": {},
     "output_type": "execute_result"
    }
   ],
   "source": [
    "predXGBTrain = modelXGB.predict(X_train)\n",
    "metrics.accuracy_score(y_train,predXGBTrain)"
   ]
  },
  {
   "cell_type": "code",
   "execution_count": 26,
   "metadata": {},
   "outputs": [],
   "source": [
    "from sklearn.ensemble import RandomForestClassifier\n",
    "rf = RandomForestClassifier()"
   ]
  },
  {
   "cell_type": "code",
   "execution_count": 27,
   "metadata": {
    "scrolled": true
   },
   "outputs": [],
   "source": [
    "model = rf.fit(X_train,y_train)"
   ]
  },
  {
   "cell_type": "code",
   "execution_count": 28,
   "metadata": {},
   "outputs": [
    {
     "data": {
      "text/plain": [
       "0.48036253776435045"
      ]
     },
     "execution_count": 28,
     "metadata": {},
     "output_type": "execute_result"
    }
   ],
   "source": [
    "predTest = model.predict(X_test)\n",
    "metrics.accuracy_score(y_test,predTest)"
   ]
  },
  {
   "cell_type": "code",
   "execution_count": 29,
   "metadata": {
    "scrolled": true
   },
   "outputs": [
    {
     "data": {
      "text/plain": [
       "1.0"
      ]
     },
     "execution_count": 29,
     "metadata": {},
     "output_type": "execute_result"
    }
   ],
   "source": [
    "predTrain = model.predict(X_train)\n",
    "metrics.accuracy_score(y_train,predTrain)"
   ]
  },
  {
   "cell_type": "code",
   "execution_count": 30,
   "metadata": {},
   "outputs": [],
   "source": [
    "from sklearn.tree import DecisionTreeClassifier\n",
    "tree = DecisionTreeClassifier()"
   ]
  },
  {
   "cell_type": "code",
   "execution_count": 31,
   "metadata": {
    "scrolled": true
   },
   "outputs": [
    {
     "data": {
      "text/plain": [
       "(0.4169184290030212, 1.0)"
      ]
     },
     "execution_count": 31,
     "metadata": {},
     "output_type": "execute_result"
    }
   ],
   "source": [
    "modelTree = tree.fit(X_train,y_train)\n",
    "predTest = modelTree.predict(X_test)\n",
    "predTrain = modelTree.predict(X_train)\n",
    "metrics.accuracy_score(y_test, predTest), metrics.accuracy_score(y_train,predTrain)"
   ]
  },
  {
   "cell_type": "code",
   "execution_count": 32,
   "metadata": {},
   "outputs": [
    {
     "data": {
      "text/plain": [
       "(2644, 3324)"
      ]
     },
     "execution_count": 32,
     "metadata": {},
     "output_type": "execute_result"
    }
   ],
   "source": [
    "X_train.shape"
   ]
  },
  {
   "cell_type": "code",
   "execution_count": 33,
   "metadata": {},
   "outputs": [],
   "source": [
    "def baseline_model():\n",
    "    model = Sequential()\n",
    "    model.add(Dense(512, input_dim=3324, activation='relu'))\n",
    "    model.add(Dropout(0.2))\n",
    "    model.add(Dense(512, activation='relu'))\n",
    "    model.add(Dropout(0.2))\n",
    "    model.add(Dense(512, activation='relu'))\n",
    "    model.add(Dropout(0.2))\n",
    "    model.add(Dense(512, activation='relu'))\n",
    "    model.add(Dense(1, activation=\"softmax\"))\n",
    "    model.compile(loss='poisson', optimizer='sgd', metrics=['accuracy'])\n",
    "    return model"
   ]
  },
  {
   "cell_type": "code",
   "execution_count": 34,
   "metadata": {},
   "outputs": [],
   "source": [
    "modelNN = baseline_model()"
   ]
  },
  {
   "cell_type": "code",
   "execution_count": 35,
   "metadata": {},
   "outputs": [
    {
     "name": "stdout",
     "output_type": "stream",
     "text": [
      "Epoch 1/10\n",
      "34/34 [==============================] - 1s 23ms/step - loss: 1.0000 - accuracy: 0.1773 - val_loss: 1.0000 - val_accuracy: 0.1399\n",
      "Epoch 2/10\n",
      "34/34 [==============================] - 1s 17ms/step - loss: 1.0000 - accuracy: 0.1773 - val_loss: 1.0000 - val_accuracy: 0.1399\n",
      "Epoch 3/10\n",
      "34/34 [==============================] - 1s 18ms/step - loss: 1.0000 - accuracy: 0.1773 - val_loss: 1.0000 - val_accuracy: 0.1399\n",
      "Epoch 4/10\n",
      "34/34 [==============================] - 1s 17ms/step - loss: 1.0000 - accuracy: 0.1773 - val_loss: 1.0000 - val_accuracy: 0.1399\n",
      "Epoch 5/10\n",
      "34/34 [==============================] - 1s 18ms/step - loss: 1.0000 - accuracy: 0.1773 - val_loss: 1.0000 - val_accuracy: 0.1399\n",
      "Epoch 6/10\n",
      "34/34 [==============================] - 1s 17ms/step - loss: 1.0000 - accuracy: 0.1773 - val_loss: 1.0000 - val_accuracy: 0.1399\n",
      "Epoch 7/10\n",
      "34/34 [==============================] - 1s 17ms/step - loss: 1.0000 - accuracy: 0.1773 - val_loss: 1.0000 - val_accuracy: 0.1399\n",
      "Epoch 8/10\n",
      "34/34 [==============================] - 1s 17ms/step - loss: 1.0000 - accuracy: 0.1773 - val_loss: 1.0000 - val_accuracy: 0.1399\n",
      "Epoch 9/10\n",
      "34/34 [==============================] - 1s 17ms/step - loss: 1.0000 - accuracy: 0.1773 - val_loss: 1.0000 - val_accuracy: 0.1399\n",
      "Epoch 10/10\n",
      "34/34 [==============================] - 1s 17ms/step - loss: 1.0000 - accuracy: 0.1773 - val_loss: 1.0000 - val_accuracy: 0.1399\n"
     ]
    }
   ],
   "source": [
    "estimatorNN = modelNN.fit(X_train,y_train,epochs = 10, validation_split=0.2, batch_size=64)"
   ]
  },
  {
   "cell_type": "code",
   "execution_count": 36,
   "metadata": {},
   "outputs": [
    {
     "data": {
      "text/plain": [
       "{'loss': [0.9999996423721313,\n",
       "  0.9999996423721313,\n",
       "  0.9999996423721313,\n",
       "  0.9999997615814209,\n",
       "  0.9999996423721313,\n",
       "  0.9999996423721313,\n",
       "  0.9999996423721313,\n",
       "  0.9999996423721313,\n",
       "  0.9999997615814209,\n",
       "  0.9999997615814209],\n",
       " 'accuracy': [0.1773049682378769,\n",
       "  0.1773049682378769,\n",
       "  0.1773049682378769,\n",
       "  0.1773049682378769,\n",
       "  0.1773049682378769,\n",
       "  0.1773049682378769,\n",
       "  0.1773049682378769,\n",
       "  0.1773049682378769,\n",
       "  0.1773049682378769,\n",
       "  0.1773049682378769],\n",
       " 'val_loss': [0.9999994039535522,\n",
       "  0.9999994039535522,\n",
       "  0.9999994039535522,\n",
       "  0.9999994039535522,\n",
       "  0.9999994039535522,\n",
       "  0.9999994039535522,\n",
       "  0.9999994039535522,\n",
       "  0.9999994039535522,\n",
       "  0.9999994039535522,\n",
       "  0.9999994039535522],\n",
       " 'val_accuracy': [0.13988657295703888,\n",
       "  0.13988657295703888,\n",
       "  0.13988657295703888,\n",
       "  0.13988657295703888,\n",
       "  0.13988657295703888,\n",
       "  0.13988657295703888,\n",
       "  0.13988657295703888,\n",
       "  0.13988657295703888,\n",
       "  0.13988657295703888,\n",
       "  0.13988657295703888]}"
      ]
     },
     "execution_count": 36,
     "metadata": {},
     "output_type": "execute_result"
    }
   ],
   "source": [
    "estimatorNN.history"
   ]
  },
  {
   "cell_type": "code",
   "execution_count": 37,
   "metadata": {},
   "outputs": [],
   "source": [
    "max_features = 3324"
   ]
  },
  {
   "cell_type": "code",
   "execution_count": 38,
   "metadata": {
    "scrolled": true
   },
   "outputs": [
    {
     "name": "stdout",
     "output_type": "stream",
     "text": [
      "Model: \"model\"\n",
      "_________________________________________________________________\n",
      " Layer (type)                Output Shape              Param #   \n",
      "=================================================================\n",
      " input_1 (InputLayer)        [(None, None)]            0         \n",
      "                                                                 \n",
      " embedding (Embedding)       (None, None, 256)         850944    \n",
      "                                                                 \n",
      " bidirectional (Bidirectiona  (None, None, 256)        394240    \n",
      " l)                                                              \n",
      "                                                                 \n",
      " bidirectional_1 (Bidirectio  (None, 256)              394240    \n",
      " nal)                                                            \n",
      "                                                                 \n",
      " dense_5 (Dense)             (None, 1)                 257       \n",
      "                                                                 \n",
      "=================================================================\n",
      "Total params: 1,639,681\n",
      "Trainable params: 1,639,681\n",
      "Non-trainable params: 0\n",
      "_________________________________________________________________\n"
     ]
    }
   ],
   "source": [
    "inputs = keras.Input(shape=(None,), dtype=\"float32\")\n",
    "\n",
    "x = Embedding(max_features, 256)(inputs)\n",
    "\n",
    "x = Bidirectional(LSTM(128, return_sequences=True))(x)\n",
    "x = Bidirectional(LSTM(128))(x)\n",
    "\n",
    "outputs = Dense(1, activation=\"sigmoid\")(x)\n",
    "\n",
    "model = keras.Model(inputs, outputs)\n",
    "model.summary()"
   ]
  },
  {
   "cell_type": "code",
   "execution_count": 39,
   "metadata": {},
   "outputs": [],
   "source": [
    "model.compile(optimizer=\"adam\", loss=\"categorical_crossentropy\", metrics = [\"accuracy\"])"
   ]
  },
  {
   "cell_type": "code",
   "execution_count": 40,
   "metadata": {
    "scrolled": false
   },
   "outputs": [
    {
     "name": "stdout",
     "output_type": "stream",
     "text": [
      "Epoch 1/2\n",
      "83/83 [==============================] - 3022s 36s/step - loss: 0.0000e+00 - accuracy: 0.1698 - val_loss: 0.0000e+00 - val_accuracy: 0.1737\n",
      "Epoch 2/2\n",
      "83/83 [==============================] - 3038s 37s/step - loss: 0.0000e+00 - accuracy: 0.1698 - val_loss: 0.0000e+00 - val_accuracy: 0.1737\n"
     ]
    },
    {
     "data": {
      "text/plain": [
       "<keras.callbacks.History at 0x269e866e6c8>"
      ]
     },
     "execution_count": 40,
     "metadata": {},
     "output_type": "execute_result"
    }
   ],
   "source": [
    "model.fit(X_train, y_train, batch_size=32, epochs=2, validation_data=(X_test, y_test))"
   ]
  },
  {
   "cell_type": "code",
   "execution_count": 41,
   "metadata": {},
   "outputs": [],
   "source": [
    "modelXGB.save_model(\"Modelo1.json\")"
   ]
  },
  {
   "cell_type": "code",
   "execution_count": 43,
   "metadata": {},
   "outputs": [
    {
     "name": "stderr",
     "output_type": "stream",
     "text": [
      "WARNING:absl:Found untraced functions such as lstm_cell_1_layer_call_fn, lstm_cell_1_layer_call_and_return_conditional_losses, lstm_cell_2_layer_call_fn, lstm_cell_2_layer_call_and_return_conditional_losses, lstm_cell_4_layer_call_fn while saving (showing 5 of 20). These functions will not be directly callable after loading.\n"
     ]
    },
    {
     "name": "stdout",
     "output_type": "stream",
     "text": [
      "INFO:tensorflow:Assets written to: modelKeras\\assets\n"
     ]
    },
    {
     "name": "stderr",
     "output_type": "stream",
     "text": [
      "INFO:tensorflow:Assets written to: modelKeras\\assets\n",
      "WARNING:absl:<keras.layers.recurrent.LSTMCell object at 0x00000269876B2B88> has the same name 'LSTMCell' as a built-in Keras object. Consider renaming <class 'keras.layers.recurrent.LSTMCell'> to avoid naming conflicts when loading with `tf.keras.models.load_model`. If renaming is not possible, pass the object in the `custom_objects` parameter of the load function.\n",
      "WARNING:absl:<keras.layers.recurrent.LSTMCell object at 0x00000269878F0888> has the same name 'LSTMCell' as a built-in Keras object. Consider renaming <class 'keras.layers.recurrent.LSTMCell'> to avoid naming conflicts when loading with `tf.keras.models.load_model`. If renaming is not possible, pass the object in the `custom_objects` parameter of the load function.\n",
      "WARNING:absl:<keras.layers.recurrent.LSTMCell object at 0x00000269E7E7CB08> has the same name 'LSTMCell' as a built-in Keras object. Consider renaming <class 'keras.layers.recurrent.LSTMCell'> to avoid naming conflicts when loading with `tf.keras.models.load_model`. If renaming is not possible, pass the object in the `custom_objects` parameter of the load function.\n",
      "WARNING:absl:<keras.layers.recurrent.LSTMCell object at 0x00000269E7E82CC8> has the same name 'LSTMCell' as a built-in Keras object. Consider renaming <class 'keras.layers.recurrent.LSTMCell'> to avoid naming conflicts when loading with `tf.keras.models.load_model`. If renaming is not possible, pass the object in the `custom_objects` parameter of the load function.\n"
     ]
    }
   ],
   "source": [
    "model.save(\"modelKeras\")"
   ]
  }
 ],
 "metadata": {
  "kernelspec": {
   "display_name": "Python 3",
   "language": "python",
   "name": "python3"
  },
  "language_info": {
   "codemirror_mode": {
    "name": "ipython",
    "version": 3
   },
   "file_extension": ".py",
   "mimetype": "text/x-python",
   "name": "python",
   "nbconvert_exporter": "python",
   "pygments_lexer": "ipython3",
   "version": "3.7.6"
  }
 },
 "nbformat": 4,
 "nbformat_minor": 4
}
